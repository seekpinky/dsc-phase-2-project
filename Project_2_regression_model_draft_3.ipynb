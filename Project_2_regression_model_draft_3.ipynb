{
 "cells": [
  {
   "cell_type": "code",
   "execution_count": 1253,
   "id": "3bd36db1",
   "metadata": {},
   "outputs": [],
   "source": [
    "# data analysis and wrangling\n",
    "import pandas as pd\n",
    "import numpy as np\n",
    "import random as rnd\n",
    "\n",
    "# visualization\n",
    "import seaborn as sns\n",
    "sns.set_style('darkgrid')\n",
    "import matplotlib.pyplot as plt\n",
    "%matplotlib inline\n",
    "\n",
    "# scaling and train test split\n",
    "from sklearn.model_selection import train_test_split,cross_val_score\n",
    "from sklearn.preprocessing import MinMaxScaler\n",
    "\n",
    "#one hot encoding\n",
    "from sklearn.preprocessing import OneHotEncoder\n",
    "#linear regression model\n",
    "from sklearn.linear_model import LinearRegression\n",
    "#evalutate multicollinearity\n",
    "from statsmodels.stats.outliers_influence import variance_inflation_factor\n",
    "# for QQ plot\n",
    "import scipy.stats as stats\n",
    "# evaluation on test data\n",
    "from sklearn import metrics\n",
    "from sklearn.metrics import mean_squared_error,mean_absolute_error,explained_variance_score\n",
    "from sklearn.metrics import classification_report,confusion_matrix"
   ]
  },
  {
   "cell_type": "code",
   "execution_count": 1254,
   "id": "56e4edb8",
   "metadata": {},
   "outputs": [],
   "source": [
    "file_path = \"\\\\Users\\\\eggfr\\\\Flatiron\\\\Flatiron_phase2_project\\\\dsc-phase-2-project\\\\data\\\\kc_house_data.csv\"\n",
    "project2_raw_df = pd.read_csv(file_path)"
   ]
  },
  {
   "cell_type": "code",
   "execution_count": 1255,
   "id": "35becb4b",
   "metadata": {
    "scrolled": true
   },
   "outputs": [
    {
     "data": {
      "text/html": [
       "<div>\n",
       "<style scoped>\n",
       "    .dataframe tbody tr th:only-of-type {\n",
       "        vertical-align: middle;\n",
       "    }\n",
       "\n",
       "    .dataframe tbody tr th {\n",
       "        vertical-align: top;\n",
       "    }\n",
       "\n",
       "    .dataframe thead th {\n",
       "        text-align: right;\n",
       "    }\n",
       "</style>\n",
       "<table border=\"1\" class=\"dataframe\">\n",
       "  <thead>\n",
       "    <tr style=\"text-align: right;\">\n",
       "      <th></th>\n",
       "      <th>id</th>\n",
       "      <th>date</th>\n",
       "      <th>price</th>\n",
       "      <th>bedrooms</th>\n",
       "      <th>bathrooms</th>\n",
       "      <th>sqft_living</th>\n",
       "      <th>sqft_lot</th>\n",
       "      <th>floors</th>\n",
       "      <th>waterfront</th>\n",
       "      <th>view</th>\n",
       "      <th>...</th>\n",
       "      <th>grade</th>\n",
       "      <th>sqft_above</th>\n",
       "      <th>sqft_basement</th>\n",
       "      <th>yr_built</th>\n",
       "      <th>yr_renovated</th>\n",
       "      <th>zipcode</th>\n",
       "      <th>lat</th>\n",
       "      <th>long</th>\n",
       "      <th>sqft_living15</th>\n",
       "      <th>sqft_lot15</th>\n",
       "    </tr>\n",
       "  </thead>\n",
       "  <tbody>\n",
       "    <tr>\n",
       "      <th>0</th>\n",
       "      <td>7129300520</td>\n",
       "      <td>10/13/2014</td>\n",
       "      <td>221900.0</td>\n",
       "      <td>3</td>\n",
       "      <td>1.00</td>\n",
       "      <td>1180</td>\n",
       "      <td>5650</td>\n",
       "      <td>1.0</td>\n",
       "      <td>NaN</td>\n",
       "      <td>NONE</td>\n",
       "      <td>...</td>\n",
       "      <td>7 Average</td>\n",
       "      <td>1180</td>\n",
       "      <td>0.0</td>\n",
       "      <td>1955</td>\n",
       "      <td>0.0</td>\n",
       "      <td>98178</td>\n",
       "      <td>47.5112</td>\n",
       "      <td>-122.257</td>\n",
       "      <td>1340</td>\n",
       "      <td>5650</td>\n",
       "    </tr>\n",
       "    <tr>\n",
       "      <th>1</th>\n",
       "      <td>6414100192</td>\n",
       "      <td>12/9/2014</td>\n",
       "      <td>538000.0</td>\n",
       "      <td>3</td>\n",
       "      <td>2.25</td>\n",
       "      <td>2570</td>\n",
       "      <td>7242</td>\n",
       "      <td>2.0</td>\n",
       "      <td>NO</td>\n",
       "      <td>NONE</td>\n",
       "      <td>...</td>\n",
       "      <td>7 Average</td>\n",
       "      <td>2170</td>\n",
       "      <td>400.0</td>\n",
       "      <td>1951</td>\n",
       "      <td>1991.0</td>\n",
       "      <td>98125</td>\n",
       "      <td>47.7210</td>\n",
       "      <td>-122.319</td>\n",
       "      <td>1690</td>\n",
       "      <td>7639</td>\n",
       "    </tr>\n",
       "    <tr>\n",
       "      <th>2</th>\n",
       "      <td>5631500400</td>\n",
       "      <td>2/25/2015</td>\n",
       "      <td>180000.0</td>\n",
       "      <td>2</td>\n",
       "      <td>1.00</td>\n",
       "      <td>770</td>\n",
       "      <td>10000</td>\n",
       "      <td>1.0</td>\n",
       "      <td>NO</td>\n",
       "      <td>NONE</td>\n",
       "      <td>...</td>\n",
       "      <td>6 Low Average</td>\n",
       "      <td>770</td>\n",
       "      <td>0.0</td>\n",
       "      <td>1933</td>\n",
       "      <td>NaN</td>\n",
       "      <td>98028</td>\n",
       "      <td>47.7379</td>\n",
       "      <td>-122.233</td>\n",
       "      <td>2720</td>\n",
       "      <td>8062</td>\n",
       "    </tr>\n",
       "    <tr>\n",
       "      <th>3</th>\n",
       "      <td>2487200875</td>\n",
       "      <td>12/9/2014</td>\n",
       "      <td>604000.0</td>\n",
       "      <td>4</td>\n",
       "      <td>3.00</td>\n",
       "      <td>1960</td>\n",
       "      <td>5000</td>\n",
       "      <td>1.0</td>\n",
       "      <td>NO</td>\n",
       "      <td>NONE</td>\n",
       "      <td>...</td>\n",
       "      <td>7 Average</td>\n",
       "      <td>1050</td>\n",
       "      <td>910.0</td>\n",
       "      <td>1965</td>\n",
       "      <td>0.0</td>\n",
       "      <td>98136</td>\n",
       "      <td>47.5208</td>\n",
       "      <td>-122.393</td>\n",
       "      <td>1360</td>\n",
       "      <td>5000</td>\n",
       "    </tr>\n",
       "    <tr>\n",
       "      <th>4</th>\n",
       "      <td>1954400510</td>\n",
       "      <td>2/18/2015</td>\n",
       "      <td>510000.0</td>\n",
       "      <td>3</td>\n",
       "      <td>2.00</td>\n",
       "      <td>1680</td>\n",
       "      <td>8080</td>\n",
       "      <td>1.0</td>\n",
       "      <td>NO</td>\n",
       "      <td>NONE</td>\n",
       "      <td>...</td>\n",
       "      <td>8 Good</td>\n",
       "      <td>1680</td>\n",
       "      <td>0.0</td>\n",
       "      <td>1987</td>\n",
       "      <td>0.0</td>\n",
       "      <td>98074</td>\n",
       "      <td>47.6168</td>\n",
       "      <td>-122.045</td>\n",
       "      <td>1800</td>\n",
       "      <td>7503</td>\n",
       "    </tr>\n",
       "  </tbody>\n",
       "</table>\n",
       "<p>5 rows × 21 columns</p>\n",
       "</div>"
      ],
      "text/plain": [
       "           id        date     price  bedrooms  bathrooms  sqft_living  \\\n",
       "0  7129300520  10/13/2014  221900.0         3       1.00         1180   \n",
       "1  6414100192   12/9/2014  538000.0         3       2.25         2570   \n",
       "2  5631500400   2/25/2015  180000.0         2       1.00          770   \n",
       "3  2487200875   12/9/2014  604000.0         4       3.00         1960   \n",
       "4  1954400510   2/18/2015  510000.0         3       2.00         1680   \n",
       "\n",
       "   sqft_lot  floors waterfront  view  ...          grade sqft_above  \\\n",
       "0      5650     1.0        NaN  NONE  ...      7 Average       1180   \n",
       "1      7242     2.0         NO  NONE  ...      7 Average       2170   \n",
       "2     10000     1.0         NO  NONE  ...  6 Low Average        770   \n",
       "3      5000     1.0         NO  NONE  ...      7 Average       1050   \n",
       "4      8080     1.0         NO  NONE  ...         8 Good       1680   \n",
       "\n",
       "   sqft_basement yr_built  yr_renovated  zipcode      lat     long  \\\n",
       "0            0.0     1955           0.0    98178  47.5112 -122.257   \n",
       "1          400.0     1951        1991.0    98125  47.7210 -122.319   \n",
       "2            0.0     1933           NaN    98028  47.7379 -122.233   \n",
       "3          910.0     1965           0.0    98136  47.5208 -122.393   \n",
       "4            0.0     1987           0.0    98074  47.6168 -122.045   \n",
       "\n",
       "   sqft_living15  sqft_lot15  \n",
       "0           1340        5650  \n",
       "1           1690        7639  \n",
       "2           2720        8062  \n",
       "3           1360        5000  \n",
       "4           1800        7503  \n",
       "\n",
       "[5 rows x 21 columns]"
      ]
     },
     "execution_count": 1255,
     "metadata": {},
     "output_type": "execute_result"
    }
   ],
   "source": [
    "project2_raw_df.head()"
   ]
  },
  {
   "cell_type": "code",
   "execution_count": 1256,
   "id": "ea890e4a",
   "metadata": {},
   "outputs": [
    {
     "name": "stderr",
     "output_type": "stream",
     "text": [
      "C:\\Users\\eggfr\\AppData\\Local\\Temp\\ipykernel_27208\\2342642404.py:2: FutureWarning: In a future version of pandas all arguments of DataFrame.drop except for the argument 'labels' will be keyword-only.\n",
      "  X= project2_raw_df.drop('price',1)\n"
     ]
    }
   ],
   "source": [
    "y = project2_raw_df['price']\n",
    "X= project2_raw_df.drop('price',1)"
   ]
  },
  {
   "cell_type": "code",
   "execution_count": 1257,
   "id": "1a35a646",
   "metadata": {},
   "outputs": [
    {
     "data": {
      "text/plain": [
       "((16197, 20), (5400, 20), (16197,), (5400,))"
      ]
     },
     "execution_count": 1257,
     "metadata": {},
     "output_type": "execute_result"
    }
   ],
   "source": [
    "#create train-test set using 75-25 (train-test and random state = 42) randomly split the data\n",
    "x_train, x_test, y_train, y_test = train_test_split(X, y ,test_size=0.25,random_state=42)\n",
    "# shape of train and test splits\n",
    "x_train.shape, x_test.shape, y_train.shape, y_test.shape"
   ]
  },
  {
   "cell_type": "code",
   "execution_count": 1258,
   "id": "979a0a4f",
   "metadata": {
    "scrolled": true
   },
   "outputs": [
    {
     "name": "stdout",
     "output_type": "stream",
     "text": [
      "<class 'pandas.core.frame.DataFrame'>\n",
      "RangeIndex: 21597 entries, 0 to 21596\n",
      "Data columns (total 21 columns):\n",
      " #   Column         Non-Null Count  Dtype  \n",
      "---  ------         --------------  -----  \n",
      " 0   id             21597 non-null  int64  \n",
      " 1   date           21597 non-null  object \n",
      " 2   price          21597 non-null  float64\n",
      " 3   bedrooms       21597 non-null  int64  \n",
      " 4   bathrooms      21597 non-null  float64\n",
      " 5   sqft_living    21597 non-null  int64  \n",
      " 6   sqft_lot       21597 non-null  int64  \n",
      " 7   floors         21597 non-null  float64\n",
      " 8   waterfront     19221 non-null  object \n",
      " 9   view           21534 non-null  object \n",
      " 10  condition      21597 non-null  object \n",
      " 11  grade          21597 non-null  object \n",
      " 12  sqft_above     21597 non-null  int64  \n",
      " 13  sqft_basement  21597 non-null  object \n",
      " 14  yr_built       21597 non-null  int64  \n",
      " 15  yr_renovated   17755 non-null  float64\n",
      " 16  zipcode        21597 non-null  int64  \n",
      " 17  lat            21597 non-null  float64\n",
      " 18  long           21597 non-null  float64\n",
      " 19  sqft_living15  21597 non-null  int64  \n",
      " 20  sqft_lot15     21597 non-null  int64  \n",
      "dtypes: float64(6), int64(9), object(6)\n",
      "memory usage: 3.5+ MB\n"
     ]
    }
   ],
   "source": [
    "project2_raw_df.info()"
   ]
  },
  {
   "cell_type": "code",
   "execution_count": 1259,
   "id": "00c61de1",
   "metadata": {},
   "outputs": [
    {
     "data": {
      "text/plain": [
       "id                  0\n",
       "date                0\n",
       "price               0\n",
       "bedrooms            0\n",
       "bathrooms           0\n",
       "sqft_living         0\n",
       "sqft_lot            0\n",
       "floors              0\n",
       "waterfront       2376\n",
       "view               63\n",
       "condition           0\n",
       "grade               0\n",
       "sqft_above          0\n",
       "sqft_basement       0\n",
       "yr_built            0\n",
       "yr_renovated     3842\n",
       "zipcode             0\n",
       "lat                 0\n",
       "long                0\n",
       "sqft_living15       0\n",
       "sqft_lot15          0\n",
       "dtype: int64"
      ]
     },
     "execution_count": 1259,
     "metadata": {},
     "output_type": "execute_result"
    }
   ],
   "source": [
    "project2_raw_df.isnull().sum()"
   ]
  },
  {
   "cell_type": "code",
   "execution_count": 1260,
   "id": "a3011d8e",
   "metadata": {},
   "outputs": [
    {
     "data": {
      "text/html": [
       "<div>\n",
       "<style scoped>\n",
       "    .dataframe tbody tr th:only-of-type {\n",
       "        vertical-align: middle;\n",
       "    }\n",
       "\n",
       "    .dataframe tbody tr th {\n",
       "        vertical-align: top;\n",
       "    }\n",
       "\n",
       "    .dataframe thead th {\n",
       "        text-align: right;\n",
       "    }\n",
       "</style>\n",
       "<table border=\"1\" class=\"dataframe\">\n",
       "  <thead>\n",
       "    <tr style=\"text-align: right;\">\n",
       "      <th></th>\n",
       "      <th>id</th>\n",
       "      <th>price</th>\n",
       "      <th>bedrooms</th>\n",
       "      <th>bathrooms</th>\n",
       "      <th>sqft_living</th>\n",
       "      <th>sqft_lot</th>\n",
       "      <th>floors</th>\n",
       "      <th>sqft_above</th>\n",
       "      <th>yr_built</th>\n",
       "      <th>yr_renovated</th>\n",
       "      <th>zipcode</th>\n",
       "      <th>lat</th>\n",
       "      <th>long</th>\n",
       "      <th>sqft_living15</th>\n",
       "      <th>sqft_lot15</th>\n",
       "    </tr>\n",
       "  </thead>\n",
       "  <tbody>\n",
       "    <tr>\n",
       "      <th>count</th>\n",
       "      <td>2.159700e+04</td>\n",
       "      <td>2.159700e+04</td>\n",
       "      <td>21597.000000</td>\n",
       "      <td>21597.000000</td>\n",
       "      <td>21597.000000</td>\n",
       "      <td>2.159700e+04</td>\n",
       "      <td>21597.000000</td>\n",
       "      <td>21597.000000</td>\n",
       "      <td>21597.000000</td>\n",
       "      <td>17755.000000</td>\n",
       "      <td>21597.000000</td>\n",
       "      <td>21597.000000</td>\n",
       "      <td>21597.000000</td>\n",
       "      <td>21597.000000</td>\n",
       "      <td>21597.000000</td>\n",
       "    </tr>\n",
       "    <tr>\n",
       "      <th>mean</th>\n",
       "      <td>4.580474e+09</td>\n",
       "      <td>5.402966e+05</td>\n",
       "      <td>3.373200</td>\n",
       "      <td>2.115826</td>\n",
       "      <td>2080.321850</td>\n",
       "      <td>1.509941e+04</td>\n",
       "      <td>1.494096</td>\n",
       "      <td>1788.596842</td>\n",
       "      <td>1970.999676</td>\n",
       "      <td>83.636778</td>\n",
       "      <td>98077.951845</td>\n",
       "      <td>47.560093</td>\n",
       "      <td>-122.213982</td>\n",
       "      <td>1986.620318</td>\n",
       "      <td>12758.283512</td>\n",
       "    </tr>\n",
       "    <tr>\n",
       "      <th>std</th>\n",
       "      <td>2.876736e+09</td>\n",
       "      <td>3.673681e+05</td>\n",
       "      <td>0.926299</td>\n",
       "      <td>0.768984</td>\n",
       "      <td>918.106125</td>\n",
       "      <td>4.141264e+04</td>\n",
       "      <td>0.539683</td>\n",
       "      <td>827.759761</td>\n",
       "      <td>29.375234</td>\n",
       "      <td>399.946414</td>\n",
       "      <td>53.513072</td>\n",
       "      <td>0.138552</td>\n",
       "      <td>0.140724</td>\n",
       "      <td>685.230472</td>\n",
       "      <td>27274.441950</td>\n",
       "    </tr>\n",
       "    <tr>\n",
       "      <th>min</th>\n",
       "      <td>1.000102e+06</td>\n",
       "      <td>7.800000e+04</td>\n",
       "      <td>1.000000</td>\n",
       "      <td>0.500000</td>\n",
       "      <td>370.000000</td>\n",
       "      <td>5.200000e+02</td>\n",
       "      <td>1.000000</td>\n",
       "      <td>370.000000</td>\n",
       "      <td>1900.000000</td>\n",
       "      <td>0.000000</td>\n",
       "      <td>98001.000000</td>\n",
       "      <td>47.155900</td>\n",
       "      <td>-122.519000</td>\n",
       "      <td>399.000000</td>\n",
       "      <td>651.000000</td>\n",
       "    </tr>\n",
       "    <tr>\n",
       "      <th>25%</th>\n",
       "      <td>2.123049e+09</td>\n",
       "      <td>3.220000e+05</td>\n",
       "      <td>3.000000</td>\n",
       "      <td>1.750000</td>\n",
       "      <td>1430.000000</td>\n",
       "      <td>5.040000e+03</td>\n",
       "      <td>1.000000</td>\n",
       "      <td>1190.000000</td>\n",
       "      <td>1951.000000</td>\n",
       "      <td>0.000000</td>\n",
       "      <td>98033.000000</td>\n",
       "      <td>47.471100</td>\n",
       "      <td>-122.328000</td>\n",
       "      <td>1490.000000</td>\n",
       "      <td>5100.000000</td>\n",
       "    </tr>\n",
       "    <tr>\n",
       "      <th>50%</th>\n",
       "      <td>3.904930e+09</td>\n",
       "      <td>4.500000e+05</td>\n",
       "      <td>3.000000</td>\n",
       "      <td>2.250000</td>\n",
       "      <td>1910.000000</td>\n",
       "      <td>7.618000e+03</td>\n",
       "      <td>1.500000</td>\n",
       "      <td>1560.000000</td>\n",
       "      <td>1975.000000</td>\n",
       "      <td>0.000000</td>\n",
       "      <td>98065.000000</td>\n",
       "      <td>47.571800</td>\n",
       "      <td>-122.231000</td>\n",
       "      <td>1840.000000</td>\n",
       "      <td>7620.000000</td>\n",
       "    </tr>\n",
       "    <tr>\n",
       "      <th>75%</th>\n",
       "      <td>7.308900e+09</td>\n",
       "      <td>6.450000e+05</td>\n",
       "      <td>4.000000</td>\n",
       "      <td>2.500000</td>\n",
       "      <td>2550.000000</td>\n",
       "      <td>1.068500e+04</td>\n",
       "      <td>2.000000</td>\n",
       "      <td>2210.000000</td>\n",
       "      <td>1997.000000</td>\n",
       "      <td>0.000000</td>\n",
       "      <td>98118.000000</td>\n",
       "      <td>47.678000</td>\n",
       "      <td>-122.125000</td>\n",
       "      <td>2360.000000</td>\n",
       "      <td>10083.000000</td>\n",
       "    </tr>\n",
       "    <tr>\n",
       "      <th>max</th>\n",
       "      <td>9.900000e+09</td>\n",
       "      <td>7.700000e+06</td>\n",
       "      <td>33.000000</td>\n",
       "      <td>8.000000</td>\n",
       "      <td>13540.000000</td>\n",
       "      <td>1.651359e+06</td>\n",
       "      <td>3.500000</td>\n",
       "      <td>9410.000000</td>\n",
       "      <td>2015.000000</td>\n",
       "      <td>2015.000000</td>\n",
       "      <td>98199.000000</td>\n",
       "      <td>47.777600</td>\n",
       "      <td>-121.315000</td>\n",
       "      <td>6210.000000</td>\n",
       "      <td>871200.000000</td>\n",
       "    </tr>\n",
       "  </tbody>\n",
       "</table>\n",
       "</div>"
      ],
      "text/plain": [
       "                 id         price      bedrooms     bathrooms   sqft_living  \\\n",
       "count  2.159700e+04  2.159700e+04  21597.000000  21597.000000  21597.000000   \n",
       "mean   4.580474e+09  5.402966e+05      3.373200      2.115826   2080.321850   \n",
       "std    2.876736e+09  3.673681e+05      0.926299      0.768984    918.106125   \n",
       "min    1.000102e+06  7.800000e+04      1.000000      0.500000    370.000000   \n",
       "25%    2.123049e+09  3.220000e+05      3.000000      1.750000   1430.000000   \n",
       "50%    3.904930e+09  4.500000e+05      3.000000      2.250000   1910.000000   \n",
       "75%    7.308900e+09  6.450000e+05      4.000000      2.500000   2550.000000   \n",
       "max    9.900000e+09  7.700000e+06     33.000000      8.000000  13540.000000   \n",
       "\n",
       "           sqft_lot        floors    sqft_above      yr_built  yr_renovated  \\\n",
       "count  2.159700e+04  21597.000000  21597.000000  21597.000000  17755.000000   \n",
       "mean   1.509941e+04      1.494096   1788.596842   1970.999676     83.636778   \n",
       "std    4.141264e+04      0.539683    827.759761     29.375234    399.946414   \n",
       "min    5.200000e+02      1.000000    370.000000   1900.000000      0.000000   \n",
       "25%    5.040000e+03      1.000000   1190.000000   1951.000000      0.000000   \n",
       "50%    7.618000e+03      1.500000   1560.000000   1975.000000      0.000000   \n",
       "75%    1.068500e+04      2.000000   2210.000000   1997.000000      0.000000   \n",
       "max    1.651359e+06      3.500000   9410.000000   2015.000000   2015.000000   \n",
       "\n",
       "            zipcode           lat          long  sqft_living15     sqft_lot15  \n",
       "count  21597.000000  21597.000000  21597.000000   21597.000000   21597.000000  \n",
       "mean   98077.951845     47.560093   -122.213982    1986.620318   12758.283512  \n",
       "std       53.513072      0.138552      0.140724     685.230472   27274.441950  \n",
       "min    98001.000000     47.155900   -122.519000     399.000000     651.000000  \n",
       "25%    98033.000000     47.471100   -122.328000    1490.000000    5100.000000  \n",
       "50%    98065.000000     47.571800   -122.231000    1840.000000    7620.000000  \n",
       "75%    98118.000000     47.678000   -122.125000    2360.000000   10083.000000  \n",
       "max    98199.000000     47.777600   -121.315000    6210.000000  871200.000000  "
      ]
     },
     "execution_count": 1260,
     "metadata": {},
     "output_type": "execute_result"
    }
   ],
   "source": [
    "project2_raw_df.describe()"
   ]
  },
  {
   "cell_type": "code",
   "execution_count": 1261,
   "id": "96b8ca56",
   "metadata": {
    "scrolled": true
   },
   "outputs": [
    {
     "name": "stdout",
     "output_type": "stream",
     "text": [
      "['id' 'bedrooms' 'bathrooms' 'sqft_living' 'sqft_lot' 'floors'\n",
      " 'waterfront' 'view' 'condition' 'grade' 'sqft_above' 'sqft_basement'\n",
      " 'yr_built' 'yr_renovated' 'zipcode' 'lat' 'long' 'sqft_living15'\n",
      " 'sqft_lot15' 'month' 'year']\n"
     ]
    }
   ],
   "source": [
    "x_train['date'] = pd.to_datetime(x_train['date'])\n",
    "x_train['month'] = x_train['date'].apply(lambda date:date.month)\n",
    "x_train['year'] = x_train['date'].apply(lambda date:date.year)\n",
    "x_train = x_train.drop('date',axis=1)\n",
    "\n",
    "x_test['date'] = pd.to_datetime(x_test['date'])\n",
    "x_test['month'] = x_test['date'].apply(lambda date:date.month)\n",
    "x_test['year'] = x_test['date'].apply(lambda date:date.year)\n",
    "x_test = x_test.drop('date',axis=1)\n",
    "\n",
    "#x_test['date'] = pd.to_datetime(x_test['date'])\n",
    "#x_test['month'] = x_test['date'].apply(lambda date:date.month)\n",
    "#x_test['year'] = x_test['date'].apply(lambda date:date.year)\n",
    "#x_test = x_test.drop('date',axis=1)\n",
    "# Check the new columns\n",
    "print(x_train.columns.values)"
   ]
  },
  {
   "cell_type": "code",
   "execution_count": 1262,
   "id": "5a502da9",
   "metadata": {},
   "outputs": [
    {
     "data": {
      "text/plain": [
       "array(['0.0', '400.0', '910.0', '1530.0', '?', '730.0', '1700.0', '300.0',\n",
       "       '970.0', '760.0', '720.0', '700.0', '820.0', '780.0', '790.0',\n",
       "       '330.0', '1620.0', '360.0', '588.0', '1510.0', '410.0', '990.0',\n",
       "       '600.0', '560.0', '550.0', '1000.0', '1600.0', '500.0', '1040.0',\n",
       "       '880.0', '1010.0', '240.0', '265.0', '290.0', '800.0', '540.0',\n",
       "       '710.0', '840.0', '380.0', '770.0', '480.0', '570.0', '1490.0',\n",
       "       '620.0', '1250.0', '1270.0', '120.0', '650.0', '180.0', '1130.0',\n",
       "       '450.0', '1640.0', '1460.0', '1020.0', '1030.0', '750.0', '640.0',\n",
       "       '1070.0', '490.0', '1310.0', '630.0', '2000.0', '390.0', '430.0',\n",
       "       '850.0', '210.0', '1430.0', '1950.0', '440.0', '220.0', '1160.0',\n",
       "       '860.0', '580.0', '2060.0', '1820.0', '1180.0', '200.0', '1150.0',\n",
       "       '1200.0', '680.0', '530.0', '1450.0', '1170.0', '1080.0', '960.0',\n",
       "       '280.0', '870.0', '1100.0', '460.0', '1400.0', '660.0', '1220.0',\n",
       "       '900.0', '420.0', '1580.0', '1380.0', '475.0', '690.0', '270.0',\n",
       "       '350.0', '935.0', '1370.0', '980.0', '1470.0', '160.0', '950.0',\n",
       "       '50.0', '740.0', '1780.0', '1900.0', '340.0', '470.0', '370.0',\n",
       "       '140.0', '1760.0', '130.0', '520.0', '890.0', '1110.0', '150.0',\n",
       "       '1720.0', '810.0', '190.0', '1290.0', '670.0', '1800.0', '1120.0',\n",
       "       '1810.0', '60.0', '1050.0', '940.0', '310.0', '930.0', '1390.0',\n",
       "       '610.0', '1830.0', '1300.0', '510.0', '1330.0', '1590.0', '920.0',\n",
       "       '1320.0', '1420.0', '1240.0', '1960.0', '1560.0', '2020.0',\n",
       "       '1190.0', '2110.0', '1280.0', '250.0', '2390.0', '1230.0', '170.0',\n",
       "       '830.0', '1260.0', '1410.0', '1340.0', '590.0', '1500.0', '1140.0',\n",
       "       '260.0', '100.0', '320.0', '1480.0', '1060.0', '1284.0', '1670.0',\n",
       "       '1350.0', '2570.0', '1090.0', '110.0', '2500.0', '90.0', '1940.0',\n",
       "       '1550.0', '2350.0', '2490.0', '1481.0', '1360.0', '1135.0',\n",
       "       '1520.0', '1850.0', '1660.0', '2130.0', '2600.0', '1690.0',\n",
       "       '243.0', '1210.0', '1024.0', '1798.0', '1610.0', '1440.0',\n",
       "       '1570.0', '1650.0', '704.0', '1910.0', '1630.0', '2360.0',\n",
       "       '1852.0', '2090.0', '2400.0', '1790.0', '2150.0', '230.0', '70.0',\n",
       "       '1680.0', '2100.0', '3000.0', '1870.0', '1710.0', '2030.0',\n",
       "       '875.0', '1540.0', '2850.0', '2170.0', '506.0', '906.0', '145.0',\n",
       "       '2040.0', '784.0', '1750.0', '374.0', '518.0', '2720.0', '2730.0',\n",
       "       '1840.0', '3480.0', '2160.0', '1920.0', '2330.0', '1860.0',\n",
       "       '2050.0', '4820.0', '1913.0', '80.0', '2010.0', '3260.0', '2200.0',\n",
       "       '415.0', '1730.0', '652.0', '2196.0', '1930.0', '515.0', '40.0',\n",
       "       '2080.0', '2580.0', '1548.0', '1740.0', '235.0', '861.0', '1890.0',\n",
       "       '2220.0', '792.0', '2070.0', '4130.0', '2250.0', '2240.0',\n",
       "       '1990.0', '768.0', '2550.0', '435.0', '1008.0', '2300.0', '2610.0',\n",
       "       '666.0', '3500.0', '172.0', '1816.0', '2190.0', '1245.0', '1525.0',\n",
       "       '1880.0', '862.0', '946.0', '1281.0', '414.0', '2180.0', '276.0',\n",
       "       '1248.0', '602.0', '516.0', '176.0', '225.0', '1275.0', '266.0',\n",
       "       '283.0', '65.0', '2310.0', '10.0', '1770.0', '2120.0', '295.0',\n",
       "       '207.0', '915.0', '556.0', '417.0', '143.0', '508.0', '2810.0',\n",
       "       '20.0', '274.0', '248.0'], dtype=object)"
      ]
     },
     "execution_count": 1262,
     "metadata": {},
     "output_type": "execute_result"
    }
   ],
   "source": [
    "project2_raw_df['sqft_basement'].unique()"
   ]
  },
  {
   "cell_type": "code",
   "execution_count": 1263,
   "id": "9ab99b10",
   "metadata": {},
   "outputs": [],
   "source": [
    "# change the inproper datatype for 'sqft_basement'\n",
    "x_train['sqft_basement'] = x_train['sqft_basement'].apply(lambda x: float(x.replace(\"?\", \"297\")))\n",
    "x_train['sqft_basement'] = x_train['sqft_basement'].apply(lambda x: float(x))\n",
    "#x_train['sqft_basement'].dtype\n",
    "x_test['sqft_basement'] = x_test['sqft_basement'].apply(lambda x: float(x.replace(\"?\", \"297\")))\n",
    "x_test['sqft_basement'] = x_test['sqft_basement'].apply(lambda x: float(x))\n",
    "\n"
   ]
  },
  {
   "cell_type": "code",
   "execution_count": 1264,
   "id": "91bbd44d",
   "metadata": {},
   "outputs": [
    {
     "name": "stdout",
     "output_type": "stream",
     "text": [
      "<class 'pandas.core.frame.DataFrame'>\n",
      "Int64Index: 5400 entries, 3686 to 2358\n",
      "Data columns (total 21 columns):\n",
      " #   Column         Non-Null Count  Dtype  \n",
      "---  ------         --------------  -----  \n",
      " 0   id             5400 non-null   int64  \n",
      " 1   bedrooms       5400 non-null   int64  \n",
      " 2   bathrooms      5400 non-null   float64\n",
      " 3   sqft_living    5400 non-null   int64  \n",
      " 4   sqft_lot       5400 non-null   int64  \n",
      " 5   floors         5400 non-null   float64\n",
      " 6   waterfront     4780 non-null   object \n",
      " 7   view           5386 non-null   object \n",
      " 8   condition      5400 non-null   object \n",
      " 9   grade          5400 non-null   object \n",
      " 10  sqft_above     5400 non-null   int64  \n",
      " 11  sqft_basement  5400 non-null   float64\n",
      " 12  yr_built       5400 non-null   int64  \n",
      " 13  yr_renovated   4437 non-null   float64\n",
      " 14  zipcode        5400 non-null   int64  \n",
      " 15  lat            5400 non-null   float64\n",
      " 16  long           5400 non-null   float64\n",
      " 17  sqft_living15  5400 non-null   int64  \n",
      " 18  sqft_lot15     5400 non-null   int64  \n",
      " 19  month          5400 non-null   int64  \n",
      " 20  year           5400 non-null   int64  \n",
      "dtypes: float64(6), int64(11), object(4)\n",
      "memory usage: 928.1+ KB\n"
     ]
    }
   ],
   "source": [
    "x_test.info()"
   ]
  },
  {
   "cell_type": "code",
   "execution_count": 1265,
   "id": "7cb6e978",
   "metadata": {},
   "outputs": [
    {
     "data": {
      "text/plain": [
       "1.0    10673\n",
       "2.0     8235\n",
       "1.5     1910\n",
       "3.0      611\n",
       "2.5      161\n",
       "3.5        7\n",
       "Name: floors, dtype: int64"
      ]
     },
     "execution_count": 1265,
     "metadata": {},
     "output_type": "execute_result"
    }
   ],
   "source": [
    "project2_raw_df['floors'].value_counts()"
   ]
  },
  {
   "cell_type": "code",
   "execution_count": 1266,
   "id": "d35b1438",
   "metadata": {},
   "outputs": [
    {
     "data": {
      "text/plain": [
       "NO     19075\n",
       "YES      146\n",
       "Name: waterfront, dtype: int64"
      ]
     },
     "execution_count": 1266,
     "metadata": {},
     "output_type": "execute_result"
    }
   ],
   "source": [
    "project2_raw_df['waterfront'].value_counts()"
   ]
  },
  {
   "cell_type": "code",
   "execution_count": 1267,
   "id": "684bd8a7",
   "metadata": {},
   "outputs": [
    {
     "data": {
      "text/plain": [
       "0    16086\n",
       "1      111\n",
       "Name: waterfront, dtype: int64"
      ]
     },
     "execution_count": 1267,
     "metadata": {},
     "output_type": "execute_result"
    }
   ],
   "source": [
    "#fill na with no value and change yes to 1 n no to 0 #since majority of the sales has no waterfront.\n",
    "x_train['waterfront'] = x_train['waterfront'].fillna(value = 'NO')\n",
    "x_train['waterfront'] = x_train['waterfront'].replace(to_replace = ['YES','NO'],value = [1,0])\n",
    "x_train['waterfront'].value_counts()\n"
   ]
  },
  {
   "cell_type": "code",
   "execution_count": 1268,
   "id": "9eb03593",
   "metadata": {},
   "outputs": [
    {
     "data": {
      "text/plain": [
       "0    5365\n",
       "1      35\n",
       "Name: waterfront, dtype: int64"
      ]
     },
     "execution_count": 1268,
     "metadata": {},
     "output_type": "execute_result"
    }
   ],
   "source": [
    "x_test['waterfront'] = x_test['waterfront'].fillna(value = 'NO')\n",
    "x_test['waterfront'] = x_test['waterfront'].replace(to_replace = ['YES','NO'],value = [1,0])\n",
    "x_test['waterfront'].value_counts()"
   ]
  },
  {
   "cell_type": "code",
   "execution_count": 1269,
   "id": "9d5cda7d",
   "metadata": {
    "scrolled": true
   },
   "outputs": [
    {
     "data": {
      "text/plain": [
       "NONE         19422\n",
       "AVERAGE        957\n",
       "GOOD           508\n",
       "FAIR           330\n",
       "EXCELLENT      317\n",
       "Name: view, dtype: int64"
      ]
     },
     "execution_count": 1269,
     "metadata": {},
     "output_type": "execute_result"
    }
   ],
   "source": [
    "project2_raw_df['view'].value_counts()\n",
    "#data1 = x_train[\"view\"].reshape(-1,1)\n",
    "#encoder = OneHotEncoder(sparse=False)\n",
    "#onehot = encoder.fit_transform(data1)"
   ]
  },
  {
   "cell_type": "code",
   "execution_count": 1270,
   "id": "093546dd",
   "metadata": {},
   "outputs": [],
   "source": [
    "# fill na with no value -->majority is none and could be N/A as none as well. n change the catgorical ordinal in to 0 to 4 with 0 to none and 4 to excellent\n",
    "x_train['view'] = x_train['view'].fillna(value = 'NONE')\n",
    "x_test['view'] = x_test['view'].fillna(value = 'NONE')\n",
    "x_train['view'] = x_train['view'].replace(to_replace = ['NONE','AVERAGE','GOOD','FAIR','EXCELLENT'],value = [0,1,2,3,4])\n",
    "x_test['view'] = x_test['view'].replace(to_replace = ['NONE','AVERAGE','GOOD','FAIR','EXCELLENT'],value = [0,1,2,3,4])"
   ]
  },
  {
   "cell_type": "code",
   "execution_count": 1271,
   "id": "02149591",
   "metadata": {},
   "outputs": [
    {
     "data": {
      "text/plain": [
       "Average      14020\n",
       "Good          5677\n",
       "Very Good     1701\n",
       "Fair           170\n",
       "Poor            29\n",
       "Name: condition, dtype: int64"
      ]
     },
     "execution_count": 1271,
     "metadata": {},
     "output_type": "execute_result"
    }
   ],
   "source": [
    "project2_raw_df['condition'].value_counts()"
   ]
  },
  {
   "cell_type": "code",
   "execution_count": 1272,
   "id": "06655ae9",
   "metadata": {},
   "outputs": [],
   "source": [
    "# replace cateogrical rating with (0 to 5 scale. 0 - Poor, and 4 - Very Good)\n",
    "x_train['condition'] = x_train['condition'].replace(to_replace = ['Poor','Fair','Average','Good','Very Good'],value = [0,1,2,3,4])\n",
    "x_test['condition'] = x_test['condition'].replace(to_replace = ['Poor','Fair','Average','Good','Very Good'],value = [0,1,2,3,4])\n"
   ]
  },
  {
   "cell_type": "code",
   "execution_count": 1273,
   "id": "2e4262ae",
   "metadata": {},
   "outputs": [
    {
     "data": {
      "text/plain": [
       "<bound method IndexOpsMixin.value_counts of 0            7 Average\n",
       "1            7 Average\n",
       "2        6 Low Average\n",
       "3            7 Average\n",
       "4               8 Good\n",
       "             ...      \n",
       "21592           8 Good\n",
       "21593           8 Good\n",
       "21594        7 Average\n",
       "21595           8 Good\n",
       "21596        7 Average\n",
       "Name: grade, Length: 21597, dtype: object>"
      ]
     },
     "execution_count": 1273,
     "metadata": {},
     "output_type": "execute_result"
    }
   ],
   "source": [
    "project2_raw_df['grade'].value_counts"
   ]
  },
  {
   "cell_type": "code",
   "execution_count": 1274,
   "id": "05dfe96a",
   "metadata": {
    "scrolled": false
   },
   "outputs": [],
   "source": [
    "# grab the numerical rating and assign it to interger type\n",
    "x_train['new_grade'] = x_train['grade'].astype(str).str[0]\n",
    "x_train['new_grade'] = x_train['new_grade'].astype(int)\n",
    "x_test['new_grade'] = x_test['grade'].astype(str).str[0]\n",
    "x_test['new_grade'] = x_test['new_grade'].astype(int)\n"
   ]
  },
  {
   "cell_type": "code",
   "execution_count": 1275,
   "id": "c7af816a",
   "metadata": {},
   "outputs": [],
   "source": [
    "#drop the string grade column\n",
    "x_train = x_train.drop(columns='grade')\n",
    "x_test = x_test.drop(columns='grade')"
   ]
  },
  {
   "cell_type": "code",
   "execution_count": 1276,
   "id": "d31f3356",
   "metadata": {},
   "outputs": [
    {
     "data": {
      "text/plain": [
       "3     9824\n",
       "4     6882\n",
       "2     2760\n",
       "5     1601\n",
       "6      272\n",
       "1      196\n",
       "7       38\n",
       "8       13\n",
       "9        6\n",
       "10       3\n",
       "11       1\n",
       "33       1\n",
       "Name: bedrooms, dtype: int64"
      ]
     },
     "execution_count": 1276,
     "metadata": {},
     "output_type": "execute_result"
    }
   ],
   "source": [
    "project2_raw_df['bedrooms'].value_counts()"
   ]
  },
  {
   "cell_type": "code",
   "execution_count": 1277,
   "id": "3e4ca8a0",
   "metadata": {},
   "outputs": [
    {
     "data": {
      "text/plain": [
       "(16197, 21)"
      ]
     },
     "execution_count": 1277,
     "metadata": {},
     "output_type": "execute_result"
    }
   ],
   "source": [
    "x_train.shape"
   ]
  },
  {
   "cell_type": "code",
   "execution_count": 1278,
   "id": "07646acc",
   "metadata": {
    "scrolled": true
   },
   "outputs": [],
   "source": [
    "# reduce the outlier bedrooms =33\n",
    "#x_train = x_train[x_train['bedrooms']<12]\n",
    "#x_test = x_test[x_test['bedrooms']<12]\n",
    "#y_train = y_train[x_train['bedrooms']<12 ]"
   ]
  },
  {
   "cell_type": "code",
   "execution_count": 1279,
   "id": "1a397eab",
   "metadata": {
    "scrolled": true
   },
   "outputs": [
    {
     "data": {
      "text/plain": [
       "2.50    5377\n",
       "1.00    3851\n",
       "1.75    3048\n",
       "2.25    2047\n",
       "2.00    1930\n",
       "1.50    1445\n",
       "2.75    1185\n",
       "3.00     753\n",
       "3.50     731\n",
       "3.25     589\n",
       "3.75     155\n",
       "4.00     136\n",
       "4.50     100\n",
       "4.25      79\n",
       "0.75      71\n",
       "4.75      23\n",
       "5.00      21\n",
       "5.25      13\n",
       "5.50      10\n",
       "1.25       9\n",
       "6.00       6\n",
       "0.50       4\n",
       "5.75       4\n",
       "6.75       2\n",
       "8.00       2\n",
       "6.25       2\n",
       "6.50       2\n",
       "7.50       1\n",
       "7.75       1\n",
       "Name: bathrooms, dtype: int64"
      ]
     },
     "execution_count": 1279,
     "metadata": {},
     "output_type": "execute_result"
    }
   ],
   "source": [
    "project2_raw_df['bathrooms'].value_counts()"
   ]
  },
  {
   "cell_type": "code",
   "execution_count": 1280,
   "id": "ebe9fa6b",
   "metadata": {},
   "outputs": [
    {
     "data": {
      "text/plain": [
       "(16197, 21)"
      ]
     },
     "execution_count": 1280,
     "metadata": {},
     "output_type": "execute_result"
    }
   ],
   "source": [
    "# reduce the bathroom < 6.5\n",
    "#x_train = x_train[x_train['bathrooms']<6.5]\n",
    "#x_test = x_test[x_test['bathrooms']<6.5]\n",
    "x_train.shape"
   ]
  },
  {
   "cell_type": "code",
   "execution_count": 1281,
   "id": "6a89c9cd",
   "metadata": {},
   "outputs": [],
   "source": [
    "#grouping seattle into zipcode which it solely belongs https://www.ciclt.net/sn/clt/capitolimpact/gw_ziplist.aspx?FIPS=53033 \n",
    "x_train['seattle'] = x_train['zipcode'].apply(lambda x : 0 if x == 98101 or x == 98102 or x == 98103 or x == 98104 or x == 98105 or x == 98106 or x == 98107 or x == 98109 or x == 98111 or x == 98112 or x == 98114 or x == 98116 or x == 98117 or x == 98118 or x == 98119 or x == 98121 or x == 98122 or x == 98124 or x == 98125 or x == 98126 or x == 98131 or x == 98132 or x == 98133 or x == 98134 or x == 98136 or x == 98144 or x == 98145 or x == 98146 or x == 98148 or x == 98154  or x == 98160 or x == 98161 or x == 98164 or x == 98166 or x == 98171 or x == 98174 or x== 98178 or x == 98199 else 1) \n",
    "x_test['seattle'] = x_test['zipcode'].apply(lambda x : 0 if x == 98101 or x == 98102 or x == 98103 or x == 98104 or x == 98105 or x == 98106 or x == 98107 or x == 98109 or x == 98111 or x == 98112 or x == 98114 or x == 98116 or x == 98117 or x == 98118 or x == 98119 or x == 98121 or x == 98122 or x == 98124 or x == 98125 or x == 98126 or x == 98131 or x == 98132 or x == 98133 or x == 98134 or x == 98136 or x == 98144 or x == 98145 or x == 98146 or x == 98148 or x == 98154  or x == 98160 or x == 98161 or x == 98164 or x == 98166 or x == 98171 or x == 98174 or x== 98178 or x == 98199 else 1) \n"
   ]
  },
  {
   "cell_type": "code",
   "execution_count": 1282,
   "id": "f2c40278",
   "metadata": {
    "scrolled": true
   },
   "outputs": [
    {
     "name": "stderr",
     "output_type": "stream",
     "text": [
      "C:\\Users\\eggfr\\anaconda3\\lib\\site-packages\\sklearn\\utils\\deprecation.py:87: FutureWarning: Function get_feature_names is deprecated; get_feature_names is deprecated in 1.0 and will be removed in 1.2. Please use get_feature_names_out instead.\n",
      "  warnings.warn(msg, category=FutureWarning)\n"
     ]
    },
    {
     "data": {
      "text/plain": [
       "(16197, 91)"
      ]
     },
     "execution_count": 1282,
     "metadata": {},
     "output_type": "execute_result"
    }
   ],
   "source": [
    "#onehot Econdinf zipcode for x_train\n",
    "ohe = OneHotEncoder(drop='first')\n",
    "data =  x_train[['zipcode']]\n",
    "\n",
    "view_df = pd.DataFrame(ohe.fit_transform(data).toarray(), index = x_train.index) #index = x_train.index to match x_train index for concat later\n",
    "view_df.columns = ohe.get_feature_names()   #use get_feature_names() to get feature name back after one hot encoding\n",
    "\n",
    "x_train = pd.concat([x_train,view_df],axis=1)\n",
    "x_train.shape"
   ]
  },
  {
   "cell_type": "code",
   "execution_count": 1283,
   "id": "3effd969",
   "metadata": {},
   "outputs": [
    {
     "name": "stderr",
     "output_type": "stream",
     "text": [
      "C:\\Users\\eggfr\\anaconda3\\lib\\site-packages\\sklearn\\utils\\deprecation.py:87: FutureWarning: Function get_feature_names is deprecated; get_feature_names is deprecated in 1.0 and will be removed in 1.2. Please use get_feature_names_out instead.\n",
      "  warnings.warn(msg, category=FutureWarning)\n"
     ]
    },
    {
     "data": {
      "text/plain": [
       "(5400, 91)"
      ]
     },
     "execution_count": 1283,
     "metadata": {},
     "output_type": "execute_result"
    }
   ],
   "source": [
    "#onehot Econdinf zipcode for x_test\n",
    "ohe = OneHotEncoder(drop='first')\n",
    "data =  x_test[['zipcode']]\n",
    "\n",
    "view_df = pd.DataFrame(ohe.fit_transform(data).toarray(), index = x_test.index) #index = x_train.index to match x_train index for concat later\n",
    "view_df.columns = ohe.get_feature_names()   #use get_feature_names() to get feature name back after one hot encoding\n",
    "\n",
    "x_test = pd.concat([x_test,view_df],axis=1)\n",
    "x_test.shape"
   ]
  },
  {
   "cell_type": "code",
   "execution_count": 1284,
   "id": "82860266",
   "metadata": {},
   "outputs": [],
   "source": [
    "# fillna with 0 to NaN for year_renovated- assuming there is no renovation.\n",
    "x_train['yr_renovated'] = x_train['yr_renovated'].fillna(value = 0)\n",
    "x_test['yr_renovated'] = x_test['yr_renovated'].fillna(value = 0)"
   ]
  },
  {
   "cell_type": "code",
   "execution_count": 1285,
   "id": "37aa5dd4",
   "metadata": {},
   "outputs": [
    {
     "data": {
      "text/plain": [
       "<AxesSubplot:xlabel='price', ylabel='Density'>"
      ]
     },
     "execution_count": 1285,
     "metadata": {},
     "output_type": "execute_result"
    },
    {
     "data": {
      "image/png": "[encoded data removed]",
      "text/plain": [
       "<Figure size 432x288 with 1 Axes>"
      ]
     },
     "metadata": {
      "needs_background": "light"
     },
     "output_type": "display_data"
    }
   ],
   "source": [
    "sns.kdeplot(y_train)"
   ]
  },
  {
   "cell_type": "code",
   "execution_count": 1286,
   "id": "cca1cd63",
   "metadata": {},
   "outputs": [],
   "source": [
    "#take a log on price\n",
    "\n",
    "y_train = np.log(y_train)\n",
    "y_test = np.log(y_test)\n"
   ]
  },
  {
   "cell_type": "code",
   "execution_count": 1287,
   "id": "07ba70cf",
   "metadata": {},
   "outputs": [
    {
     "data": {
      "text/plain": [
       "<AxesSubplot:xlabel='price', ylabel='Density'>"
      ]
     },
     "execution_count": 1287,
     "metadata": {},
     "output_type": "execute_result"
    },
    {
     "data": {
      "image/png": "[encoded data removed]",
      "text/plain": [
       "<Figure size 432x288 with 1 Axes>"
      ]
     },
     "metadata": {
      "needs_background": "light"
     },
     "output_type": "display_data"
    }
   ],
   "source": [
    "sns.kdeplot(y_train)"
   ]
  },
  {
   "cell_type": "code",
   "execution_count": 1288,
   "id": "5f14c50e",
   "metadata": {},
   "outputs": [
    {
     "name": "stdout",
     "output_type": "stream",
     "text": [
      "<class 'pandas.core.frame.DataFrame'>\n",
      "Int64Index: 16197 entries, 6405 to 15795\n",
      "Data columns (total 91 columns):\n",
      " #   Column         Non-Null Count  Dtype  \n",
      "---  ------         --------------  -----  \n",
      " 0   id             16197 non-null  int64  \n",
      " 1   bedrooms       16197 non-null  int64  \n",
      " 2   bathrooms      16197 non-null  float64\n",
      " 3   sqft_living    16197 non-null  int64  \n",
      " 4   sqft_lot       16197 non-null  int64  \n",
      " 5   floors         16197 non-null  float64\n",
      " 6   waterfront     16197 non-null  int64  \n",
      " 7   view           16197 non-null  int64  \n",
      " 8   condition      16197 non-null  int64  \n",
      " 9   sqft_above     16197 non-null  int64  \n",
      " 10  sqft_basement  16197 non-null  float64\n",
      " 11  yr_built       16197 non-null  int64  \n",
      " 12  yr_renovated   16197 non-null  float64\n",
      " 13  zipcode        16197 non-null  int64  \n",
      " 14  lat            16197 non-null  float64\n",
      " 15  long           16197 non-null  float64\n",
      " 16  sqft_living15  16197 non-null  int64  \n",
      " 17  sqft_lot15     16197 non-null  int64  \n",
      " 18  month          16197 non-null  int64  \n",
      " 19  year           16197 non-null  int64  \n",
      " 20  new_grade      16197 non-null  int32  \n",
      " 21  seattle        16197 non-null  int64  \n",
      " 22  x0_98002       16197 non-null  float64\n",
      " 23  x0_98003       16197 non-null  float64\n",
      " 24  x0_98004       16197 non-null  float64\n",
      " 25  x0_98005       16197 non-null  float64\n",
      " 26  x0_98006       16197 non-null  float64\n",
      " 27  x0_98007       16197 non-null  float64\n",
      " 28  x0_98008       16197 non-null  float64\n",
      " 29  x0_98010       16197 non-null  float64\n",
      " 30  x0_98011       16197 non-null  float64\n",
      " 31  x0_98014       16197 non-null  float64\n",
      " 32  x0_98019       16197 non-null  float64\n",
      " 33  x0_98022       16197 non-null  float64\n",
      " 34  x0_98023       16197 non-null  float64\n",
      " 35  x0_98024       16197 non-null  float64\n",
      " 36  x0_98027       16197 non-null  float64\n",
      " 37  x0_98028       16197 non-null  float64\n",
      " 38  x0_98029       16197 non-null  float64\n",
      " 39  x0_98030       16197 non-null  float64\n",
      " 40  x0_98031       16197 non-null  float64\n",
      " 41  x0_98032       16197 non-null  float64\n",
      " 42  x0_98033       16197 non-null  float64\n",
      " 43  x0_98034       16197 non-null  float64\n",
      " 44  x0_98038       16197 non-null  float64\n",
      " 45  x0_98039       16197 non-null  float64\n",
      " 46  x0_98040       16197 non-null  float64\n",
      " 47  x0_98042       16197 non-null  float64\n",
      " 48  x0_98045       16197 non-null  float64\n",
      " 49  x0_98052       16197 non-null  float64\n",
      " 50  x0_98053       16197 non-null  float64\n",
      " 51  x0_98055       16197 non-null  float64\n",
      " 52  x0_98056       16197 non-null  float64\n",
      " 53  x0_98058       16197 non-null  float64\n",
      " 54  x0_98059       16197 non-null  float64\n",
      " 55  x0_98065       16197 non-null  float64\n",
      " 56  x0_98070       16197 non-null  float64\n",
      " 57  x0_98072       16197 non-null  float64\n",
      " 58  x0_98074       16197 non-null  float64\n",
      " 59  x0_98075       16197 non-null  float64\n",
      " 60  x0_98077       16197 non-null  float64\n",
      " 61  x0_98092       16197 non-null  float64\n",
      " 62  x0_98102       16197 non-null  float64\n",
      " 63  x0_98103       16197 non-null  float64\n",
      " 64  x0_98105       16197 non-null  float64\n",
      " 65  x0_98106       16197 non-null  float64\n",
      " 66  x0_98107       16197 non-null  float64\n",
      " 67  x0_98108       16197 non-null  float64\n",
      " 68  x0_98109       16197 non-null  float64\n",
      " 69  x0_98112       16197 non-null  float64\n",
      " 70  x0_98115       16197 non-null  float64\n",
      " 71  x0_98116       16197 non-null  float64\n",
      " 72  x0_98117       16197 non-null  float64\n",
      " 73  x0_98118       16197 non-null  float64\n",
      " 74  x0_98119       16197 non-null  float64\n",
      " 75  x0_98122       16197 non-null  float64\n",
      " 76  x0_98125       16197 non-null  float64\n",
      " 77  x0_98126       16197 non-null  float64\n",
      " 78  x0_98133       16197 non-null  float64\n",
      " 79  x0_98136       16197 non-null  float64\n",
      " 80  x0_98144       16197 non-null  float64\n",
      " 81  x0_98146       16197 non-null  float64\n",
      " 82  x0_98148       16197 non-null  float64\n",
      " 83  x0_98155       16197 non-null  float64\n",
      " 84  x0_98166       16197 non-null  float64\n",
      " 85  x0_98168       16197 non-null  float64\n",
      " 86  x0_98177       16197 non-null  float64\n",
      " 87  x0_98178       16197 non-null  float64\n",
      " 88  x0_98188       16197 non-null  float64\n",
      " 89  x0_98198       16197 non-null  float64\n",
      " 90  x0_98199       16197 non-null  float64\n",
      "dtypes: float64(75), int32(1), int64(15)\n",
      "memory usage: 11.3 MB\n"
     ]
    }
   ],
   "source": [
    "x_train.info()"
   ]
  },
  {
   "cell_type": "code",
   "execution_count": 1289,
   "id": "96e48eac",
   "metadata": {},
   "outputs": [
    {
     "data": {
      "text/plain": [
       "id             0\n",
       "bedrooms       0\n",
       "bathrooms      0\n",
       "sqft_living    0\n",
       "sqft_lot       0\n",
       "              ..\n",
       "x0_98177       0\n",
       "x0_98178       0\n",
       "x0_98188       0\n",
       "x0_98198       0\n",
       "x0_98199       0\n",
       "Length: 91, dtype: int64"
      ]
     },
     "execution_count": 1289,
     "metadata": {},
     "output_type": "execute_result"
    }
   ],
   "source": [
    "x_train.isnull().sum()"
   ]
  },
  {
   "cell_type": "code",
   "execution_count": 1290,
   "id": "8be795f1",
   "metadata": {},
   "outputs": [],
   "source": [
    "#scale data w MinMaxScaler 'sqft_living','sqft_lot','sqft_above','sqft_basement','sqft_living15','sqft_lot15 for both train n data set\n",
    "features = ['sqft_living','sqft_lot','sqft_above','sqft_basement','sqft_living15','sqft_lot15']\n",
    "autoscaler = MinMaxScaler()\n",
    "\n",
    "x_train[features] = autoscaler.fit_transform(x_train[features])\n",
    "x_test[features] = autoscaler.fit_transform(x_test[features])"
   ]
  },
  {
   "cell_type": "code",
   "execution_count": 1291,
   "id": "43858f75",
   "metadata": {},
   "outputs": [],
   "source": [
    "x_train = x_train.drop(columns=['id','year','zipcode'])\n",
    "x_test = x_test.drop(columns=['id','year','zipcode'])"
   ]
  },
  {
   "cell_type": "code",
   "execution_count": 1292,
   "id": "8879e07b",
   "metadata": {},
   "outputs": [
    {
     "data": {
      "text/html": [
       "<div>\n",
       "<style scoped>\n",
       "    .dataframe tbody tr th:only-of-type {\n",
       "        vertical-align: middle;\n",
       "    }\n",
       "\n",
       "    .dataframe tbody tr th {\n",
       "        vertical-align: top;\n",
       "    }\n",
       "\n",
       "    .dataframe thead th {\n",
       "        text-align: right;\n",
       "    }\n",
       "</style>\n",
       "<table border=\"1\" class=\"dataframe\">\n",
       "  <thead>\n",
       "    <tr style=\"text-align: right;\">\n",
       "      <th></th>\n",
       "      <th>bedrooms</th>\n",
       "      <th>bathrooms</th>\n",
       "      <th>sqft_living</th>\n",
       "      <th>sqft_lot</th>\n",
       "      <th>floors</th>\n",
       "      <th>waterfront</th>\n",
       "      <th>view</th>\n",
       "      <th>condition</th>\n",
       "      <th>sqft_above</th>\n",
       "      <th>sqft_basement</th>\n",
       "      <th>...</th>\n",
       "      <th>x0_98146</th>\n",
       "      <th>x0_98148</th>\n",
       "      <th>x0_98155</th>\n",
       "      <th>x0_98166</th>\n",
       "      <th>x0_98168</th>\n",
       "      <th>x0_98177</th>\n",
       "      <th>x0_98178</th>\n",
       "      <th>x0_98188</th>\n",
       "      <th>x0_98198</th>\n",
       "      <th>x0_98199</th>\n",
       "    </tr>\n",
       "  </thead>\n",
       "  <tbody>\n",
       "    <tr>\n",
       "      <th>6405</th>\n",
       "      <td>3</td>\n",
       "      <td>2.50</td>\n",
       "      <td>0.114655</td>\n",
       "      <td>0.002410</td>\n",
       "      <td>2.0</td>\n",
       "      <td>0</td>\n",
       "      <td>0</td>\n",
       "      <td>2</td>\n",
       "      <td>0.167035</td>\n",
       "      <td>0.000000</td>\n",
       "      <td>...</td>\n",
       "      <td>0.0</td>\n",
       "      <td>0.0</td>\n",
       "      <td>0.0</td>\n",
       "      <td>0.0</td>\n",
       "      <td>0.0</td>\n",
       "      <td>0.0</td>\n",
       "      <td>0.0</td>\n",
       "      <td>0.0</td>\n",
       "      <td>0.0</td>\n",
       "      <td>0.0</td>\n",
       "    </tr>\n",
       "    <tr>\n",
       "      <th>937</th>\n",
       "      <td>3</td>\n",
       "      <td>2.50</td>\n",
       "      <td>0.125285</td>\n",
       "      <td>0.003661</td>\n",
       "      <td>1.0</td>\n",
       "      <td>0</td>\n",
       "      <td>0</td>\n",
       "      <td>2</td>\n",
       "      <td>0.103982</td>\n",
       "      <td>0.147303</td>\n",
       "      <td>...</td>\n",
       "      <td>0.0</td>\n",
       "      <td>0.0</td>\n",
       "      <td>0.0</td>\n",
       "      <td>0.0</td>\n",
       "      <td>0.0</td>\n",
       "      <td>0.0</td>\n",
       "      <td>0.0</td>\n",
       "      <td>0.0</td>\n",
       "      <td>0.0</td>\n",
       "      <td>0.0</td>\n",
       "    </tr>\n",
       "    <tr>\n",
       "      <th>19076</th>\n",
       "      <td>5</td>\n",
       "      <td>4.00</td>\n",
       "      <td>0.330296</td>\n",
       "      <td>0.298645</td>\n",
       "      <td>2.0</td>\n",
       "      <td>0</td>\n",
       "      <td>0</td>\n",
       "      <td>4</td>\n",
       "      <td>0.397124</td>\n",
       "      <td>0.157676</td>\n",
       "      <td>...</td>\n",
       "      <td>0.0</td>\n",
       "      <td>0.0</td>\n",
       "      <td>0.0</td>\n",
       "      <td>0.0</td>\n",
       "      <td>0.0</td>\n",
       "      <td>0.0</td>\n",
       "      <td>0.0</td>\n",
       "      <td>0.0</td>\n",
       "      <td>0.0</td>\n",
       "      <td>0.0</td>\n",
       "    </tr>\n",
       "    <tr>\n",
       "      <th>15201</th>\n",
       "      <td>2</td>\n",
       "      <td>2.00</td>\n",
       "      <td>0.080486</td>\n",
       "      <td>0.002035</td>\n",
       "      <td>1.0</td>\n",
       "      <td>0</td>\n",
       "      <td>0</td>\n",
       "      <td>3</td>\n",
       "      <td>0.117257</td>\n",
       "      <td>0.000000</td>\n",
       "      <td>...</td>\n",
       "      <td>0.0</td>\n",
       "      <td>0.0</td>\n",
       "      <td>0.0</td>\n",
       "      <td>0.0</td>\n",
       "      <td>0.0</td>\n",
       "      <td>0.0</td>\n",
       "      <td>0.0</td>\n",
       "      <td>0.0</td>\n",
       "      <td>0.0</td>\n",
       "      <td>0.0</td>\n",
       "    </tr>\n",
       "    <tr>\n",
       "      <th>13083</th>\n",
       "      <td>3</td>\n",
       "      <td>2.25</td>\n",
       "      <td>0.144267</td>\n",
       "      <td>0.019137</td>\n",
       "      <td>1.0</td>\n",
       "      <td>0</td>\n",
       "      <td>0</td>\n",
       "      <td>3</td>\n",
       "      <td>0.151549</td>\n",
       "      <td>0.109959</td>\n",
       "      <td>...</td>\n",
       "      <td>0.0</td>\n",
       "      <td>0.0</td>\n",
       "      <td>0.0</td>\n",
       "      <td>0.0</td>\n",
       "      <td>0.0</td>\n",
       "      <td>0.0</td>\n",
       "      <td>0.0</td>\n",
       "      <td>0.0</td>\n",
       "      <td>0.0</td>\n",
       "      <td>0.0</td>\n",
       "    </tr>\n",
       "  </tbody>\n",
       "</table>\n",
       "<p>5 rows × 88 columns</p>\n",
       "</div>"
      ],
      "text/plain": [
       "       bedrooms  bathrooms  sqft_living  sqft_lot  floors  waterfront  view  \\\n",
       "6405          3       2.50     0.114655  0.002410     2.0           0     0   \n",
       "937           3       2.50     0.125285  0.003661     1.0           0     0   \n",
       "19076         5       4.00     0.330296  0.298645     2.0           0     0   \n",
       "15201         2       2.00     0.080486  0.002035     1.0           0     0   \n",
       "13083         3       2.25     0.144267  0.019137     1.0           0     0   \n",
       "\n",
       "       condition  sqft_above  sqft_basement  ...  x0_98146  x0_98148  \\\n",
       "6405           2    0.167035       0.000000  ...       0.0       0.0   \n",
       "937            2    0.103982       0.147303  ...       0.0       0.0   \n",
       "19076          4    0.397124       0.157676  ...       0.0       0.0   \n",
       "15201          3    0.117257       0.000000  ...       0.0       0.0   \n",
       "13083          3    0.151549       0.109959  ...       0.0       0.0   \n",
       "\n",
       "       x0_98155  x0_98166  x0_98168  x0_98177  x0_98178  x0_98188  x0_98198  \\\n",
       "6405        0.0       0.0       0.0       0.0       0.0       0.0       0.0   \n",
       "937         0.0       0.0       0.0       0.0       0.0       0.0       0.0   \n",
       "19076       0.0       0.0       0.0       0.0       0.0       0.0       0.0   \n",
       "15201       0.0       0.0       0.0       0.0       0.0       0.0       0.0   \n",
       "13083       0.0       0.0       0.0       0.0       0.0       0.0       0.0   \n",
       "\n",
       "       x0_98199  \n",
       "6405        0.0  \n",
       "937         0.0  \n",
       "19076       0.0  \n",
       "15201       0.0  \n",
       "13083       0.0  \n",
       "\n",
       "[5 rows x 88 columns]"
      ]
     },
     "execution_count": 1292,
     "metadata": {},
     "output_type": "execute_result"
    }
   ],
   "source": [
    "x_train.head()"
   ]
  },
  {
   "cell_type": "code",
   "execution_count": 1293,
   "id": "c34d1176",
   "metadata": {},
   "outputs": [
    {
     "data": {
      "text/plain": [
       "(5400, 88)"
      ]
     },
     "execution_count": 1293,
     "metadata": {},
     "output_type": "execute_result"
    }
   ],
   "source": [
    "x_test.shape"
   ]
  },
  {
   "cell_type": "code",
   "execution_count": 1294,
   "id": "3240af33",
   "metadata": {
    "scrolled": false
   },
   "outputs": [
    {
     "name": "stdout",
     "output_type": "stream",
     "text": [
      "                            OLS Regression Results                            \n",
      "==============================================================================\n",
      "Dep. Variable:                  price   R-squared:                       0.867\n",
      "Model:                            OLS   Adj. R-squared:                  0.866\n",
      "Method:                 Least Squares   F-statistic:                     1203.\n",
      "Date:                Thu, 23 Jun 2022   Prob (F-statistic):               0.00\n",
      "Time:                        12:27:57   Log-Likelihood:                 3696.3\n",
      "No. Observations:               16197   AIC:                            -7217.\n",
      "Df Residuals:                   16109   BIC:                            -6540.\n",
      "Df Model:                          87                                         \n",
      "Covariance Type:            nonrobust                                         \n",
      "=================================================================================\n",
      "                    coef    std err          t      P>|t|      [0.025      0.975]\n",
      "---------------------------------------------------------------------------------\n",
      "const           -66.3703      8.095     -8.199      0.000     -82.238     -50.503\n",
      "bedrooms         -0.0097      0.002     -4.363      0.000      -0.014      -0.005\n",
      "bathrooms         0.0500      0.004     13.608      0.000       0.043       0.057\n",
      "sqft_living       1.8943      0.324      5.850      0.000       1.260       2.529\n",
      "sqft_lot          1.0741      0.088     12.149      0.000       0.901       1.247\n",
      "floors           -0.0312      0.004     -7.072      0.000      -0.040      -0.023\n",
      "waterfront        0.4705      0.021     22.869      0.000       0.430       0.511\n",
      "view              0.0737      0.003     27.496      0.000       0.068       0.079\n",
      "condition         0.0578      0.003     21.641      0.000       0.053       0.063\n",
      "sqft_above        1.1212      0.223      5.039      0.000       0.685       1.557\n",
      "sqft_basement     0.0680      0.118      0.575      0.566      -0.164       0.300\n",
      "yr_built          0.0004   8.61e-05      4.396      0.000       0.000       0.001\n",
      "yr_renovated   4.711e-05   4.49e-06     10.496      0.000    3.83e-05    5.59e-05\n",
      "lat               0.6055      0.088      6.903      0.000       0.434       0.777\n",
      "long             -0.4258      0.062     -6.854      0.000      -0.548      -0.304\n",
      "sqft_living15     0.7376      0.023     32.500      0.000       0.693       0.782\n",
      "sqft_lot15        0.0323      0.074      0.438      0.661      -0.112       0.177\n",
      "month            -0.0049      0.000     -9.957      0.000      -0.006      -0.004\n",
      "new_grade         0.0056      0.001      6.358      0.000       0.004       0.007\n",
      "seattle          -3.3434      0.339     -9.872      0.000      -4.007      -2.680\n",
      "x0_98002         -0.0246      0.020     -1.205      0.228      -0.065       0.015\n",
      "x0_98003          0.0235      0.018      1.299      0.194      -0.012       0.059\n",
      "x0_98004          0.9487      0.033     29.116      0.000       0.885       1.013\n",
      "x0_98005          0.6178      0.035     17.769      0.000       0.550       0.686\n",
      "x0_98006          0.5597      0.029     19.593      0.000       0.504       0.616\n",
      "x0_98007          0.5583      0.036     15.485      0.000       0.488       0.629\n",
      "x0_98008          0.5447      0.034     16.050      0.000       0.478       0.611\n",
      "x0_98010          0.3085      0.030     10.314      0.000       0.250       0.367\n",
      "x0_98011          0.2044      0.044      4.605      0.000       0.117       0.291\n",
      "x0_98014          0.2492      0.048      5.161      0.000       0.155       0.344\n",
      "x0_98019          0.1629      0.048      3.402      0.001       0.069       0.257\n",
      "x0_98022          0.2093      0.027      7.843      0.000       0.157       0.262\n",
      "x0_98023         -0.0587      0.016     -3.570      0.000      -0.091      -0.026\n",
      "x0_98024          0.4032      0.042      9.547      0.000       0.320       0.486\n",
      "x0_98027          0.4724      0.029     16.327      0.000       0.416       0.529\n",
      "x0_98028          0.1511      0.043      3.499      0.000       0.066       0.236\n",
      "x0_98029          0.5862      0.033     17.694      0.000       0.521       0.651\n",
      "x0_98030          0.0476      0.020      2.372      0.018       0.008       0.087\n",
      "x0_98031          0.0470      0.020      2.297      0.022       0.007       0.087\n",
      "x0_98032         -0.0583      0.024     -2.385      0.017      -0.106      -0.010\n",
      "x0_98033          0.6066      0.037     16.385      0.000       0.534       0.679\n",
      "x0_98034          0.3237      0.040      8.170      0.000       0.246       0.401\n",
      "x0_98038          0.2055      0.022      9.320      0.000       0.162       0.249\n",
      "x0_98039          1.0797      0.043     24.921      0.000       0.995       1.165\n",
      "x0_98040          0.7515      0.029     26.069      0.000       0.695       0.808\n",
      "x0_98042          0.0750      0.019      3.978      0.000       0.038       0.112\n",
      "x0_98045          0.4424      0.040     10.995      0.000       0.363       0.521\n",
      "x0_98052          0.4882      0.038     12.975      0.000       0.414       0.562\n",
      "x0_98053          0.4377      0.040     10.860      0.000       0.359       0.517\n",
      "x0_98055          0.0719      0.023      3.180      0.001       0.028       0.116\n",
      "x0_98056          0.2209      0.025      8.893      0.000       0.172       0.270\n",
      "x0_98058          0.1298      0.022      6.005      0.000       0.087       0.172\n",
      "x0_98059          0.2622      0.024     10.750      0.000       0.214       0.310\n",
      "x0_98065          0.3819      0.037     10.249      0.000       0.309       0.455\n",
      "x0_98070          0.1805      0.029      6.222      0.000       0.124       0.237\n",
      "x0_98072          0.2891      0.044      6.564      0.000       0.203       0.375\n",
      "x0_98074          0.4931      0.036     13.840      0.000       0.423       0.563\n",
      "x0_98075          0.4995      0.034     14.640      0.000       0.433       0.566\n",
      "x0_98077          0.2850      0.046      6.225      0.000       0.195       0.375\n",
      "x0_98092          0.0618      0.018      3.405      0.001       0.026       0.097\n",
      "x0_98102         -2.5451      0.354     -7.196      0.000      -3.238      -1.852\n",
      "x0_98103         -2.7421      0.356     -7.700      0.000      -3.440      -2.044\n",
      "x0_98105         -2.5840      0.353     -7.318      0.000      -3.276      -1.892\n",
      "x0_98106         -3.1755      0.351     -9.035      0.000      -3.864      -2.487\n",
      "x0_98107         -2.7379      0.358     -7.655      0.000      -3.439      -2.037\n",
      "x0_98108          0.1931      0.029      6.652      0.000       0.136       0.250\n",
      "x0_98109         -2.5188      0.355     -7.090      0.000      -3.215      -1.823\n",
      "x0_98112         -2.4382      0.352     -6.930      0.000      -3.128      -1.749\n",
      "x0_98115          0.6041      0.036     16.586      0.000       0.533       0.676\n",
      "x0_98116         -2.7559      0.355     -7.767      0.000      -3.451      -2.060\n",
      "x0_98117         -2.7761      0.358     -7.746      0.000      -3.479      -2.074\n",
      "x0_98118         -3.0318      0.347     -8.731      0.000      -3.712      -2.351\n",
      "x0_98119         -2.5338      0.356     -7.116      0.000      -3.232      -1.836\n",
      "x0_98122         -2.6872      0.351     -7.651      0.000      -3.376      -1.999\n",
      "x0_98125         -3.0234      0.356     -8.504      0.000      -3.720      -2.327\n",
      "x0_98126         -2.9737      0.353     -8.429      0.000      -3.665      -2.282\n",
      "x0_98133         -3.1621      0.359     -8.819      0.000      -3.865      -2.459\n",
      "x0_98136         -2.8368      0.353     -8.029      0.000      -3.529      -2.144\n",
      "x0_98144         -2.8287      0.350     -8.078      0.000      -3.515      -2.142\n",
      "x0_98146         -3.2300      0.350     -9.220      0.000      -3.917      -2.543\n",
      "x0_98148         -3.2907      0.347     -9.475      0.000      -3.971      -2.610\n",
      "x0_98155          0.1560      0.042      3.695      0.000       0.073       0.239\n",
      "x0_98166         -3.1548      0.348     -9.059      0.000      -3.837      -2.472\n",
      "x0_98168         -0.0574      0.024     -2.379      0.017      -0.105      -0.010\n",
      "x0_98177          0.3096      0.043      7.275      0.000       0.226       0.393\n",
      "x0_98178         -3.3058      0.344     -9.606      0.000      -3.980      -2.631\n",
      "x0_98188          0.0180      0.025      0.711      0.477      -0.032       0.068\n",
      "x0_98198         -0.0353      0.020     -1.807      0.071      -0.074       0.003\n",
      "x0_98199         -2.6942      0.358     -7.526      0.000      -3.396      -1.993\n",
      "==============================================================================\n",
      "Omnibus:                     1620.677   Durbin-Watson:                   2.026\n",
      "Prob(Omnibus):                  0.000   Jarque-Bera (JB):             7843.667\n",
      "Skew:                          -0.377   Prob(JB):                         0.00\n",
      "Kurtosis:                       6.325   Cond. No.                     3.42e+15\n",
      "==============================================================================\n",
      "\n",
      "Notes:\n",
      "[1] Standard Errors assume that the covariance matrix of the errors is correctly specified.\n",
      "[2] The smallest eigenvalue is 5.41e-21. This might indicate that there are\n",
      "strong multicollinearity problems or that the design matrix is singular.\n"
     ]
    }
   ],
   "source": [
    "import statsmodels.api as sm\n",
    "y = y_train\n",
    "X= x_train\n",
    "z = x_test\n",
    "Hh = y_test\n",
    "Xcont = sm.add_constant(X)\n",
    "\n",
    "model = sm.OLS(endog = y, exog = Xcont)\n",
    "model = sm.OLS(y,Xcont)\n",
    "res = model.fit()\n",
    "#testmodel = sm.OLS(z,Hh).fit()\n",
    "#print(testmodel.summary())\n",
    "print(res.summary())"
   ]
  },
  {
   "cell_type": "code",
   "execution_count": 1295,
   "id": "c603e862",
   "metadata": {},
   "outputs": [
    {
     "name": "stdout",
     "output_type": "stream",
     "text": [
      "0.8666296341435498\n",
      "0.8250361486400566\n"
     ]
    }
   ],
   "source": [
    "lr = LinearRegression()\n",
    "lr.fit(x_train,y_train)\n",
    "ols = LinearRegression()\n",
    "\n",
    "testsmodel = ols.fit(X,y)\n",
    "print(testsmodel.score(X,y)) # train\n",
    "print(testsmodel.score(z,Hh)) # test \n",
    "#print(cross_val_score(lr,X,y,cv=3))"
   ]
  },
  {
   "cell_type": "code",
   "execution_count": 1296,
   "id": "b9a4659a",
   "metadata": {},
   "outputs": [
    {
     "name": "stdout",
     "output_type": "stream",
     "text": [
      "-69.25598512448943\n"
     ]
    }
   ],
   "source": [
    "print(lr.intercept_)"
   ]
  },
  {
   "cell_type": "code",
   "execution_count": 1297,
   "id": "129c497f",
   "metadata": {},
   "outputs": [
    {
     "data": {
      "text/plain": [
       "array([-9.72394302e-03,  5.00411177e-02,  1.89431294e+00,  1.07412021e+00,\n",
       "       -3.12450085e-02,  4.70472758e-01,  7.36529504e-02,  5.78275346e-02,\n",
       "        1.12123202e+00,  6.79991622e-02,  3.78423549e-04,  4.71092700e-05,\n",
       "        6.05498923e-01, -4.25772636e-01,  7.37640527e-01,  3.23100772e-02,\n",
       "       -4.86973514e-03,  5.55448820e-03, -4.57770957e-01, -2.45717527e-02,\n",
       "        2.34665142e-02,  9.48680095e-01,  6.17797189e-01,  5.59708367e-01,\n",
       "        5.58281745e-01,  5.44660185e-01,  3.08537689e-01,  2.04360662e-01,\n",
       "        2.49220945e-01,  1.62890975e-01,  2.09334005e-01, -5.86700167e-02,\n",
       "        4.03210561e-01,  4.72392513e-01,  1.51107699e-01,  5.86187046e-01,\n",
       "        4.76270094e-02,  4.70318445e-02, -5.83036575e-02,  6.06570593e-01,\n",
       "        3.23704584e-01,  2.05465710e-01,  1.07967563e+00,  7.51528100e-01,\n",
       "        7.50012549e-02,  4.42350479e-01,  4.88212600e-01,  4.37720873e-01,\n",
       "        7.18783154e-02,  2.20931306e-01,  1.29798462e-01,  2.62168908e-01,\n",
       "        3.81866961e-01,  1.80452346e-01,  2.89120238e-01,  4.93080672e-01,\n",
       "        4.99463372e-01,  2.84959454e-01,  6.18353416e-02,  3.40609853e-01,\n",
       "        1.43536504e-01,  3.01657434e-01, -2.89872638e-01,  1.47762005e-01,\n",
       "        1.93124800e-01,  3.66834067e-01,  4.47456622e-01,  6.04146840e-01,\n",
       "        1.29773505e-01,  1.09548708e-01, -1.46145843e-01,  3.51816482e-01,\n",
       "        1.98466668e-01, -1.37779337e-01, -8.80732919e-02, -2.76455357e-01,\n",
       "        4.88982528e-02,  5.69699342e-02, -3.44349649e-01, -4.05083032e-01,\n",
       "        1.56029841e-01, -2.69100126e-01, -5.73587455e-02,  3.09583091e-01,\n",
       "       -4.20158333e-01,  1.79814630e-02, -3.53203148e-02,  1.91458529e-01])"
      ]
     },
     "execution_count": 1297,
     "metadata": {},
     "output_type": "execute_result"
    }
   ],
   "source": [
    "lr.coef_"
   ]
  },
  {
   "cell_type": "code",
   "execution_count": 1298,
   "id": "e561a56a",
   "metadata": {},
   "outputs": [],
   "source": [
    "model1_predictions = lr.predict(x_test)"
   ]
  },
  {
   "cell_type": "code",
   "execution_count": 1299,
   "id": "40ddbdc3",
   "metadata": {},
   "outputs": [
    {
     "data": {
      "text/plain": [
       "array([12.26145716, 13.15063008, 12.87243603, ..., 14.31865894,\n",
       "       13.9704357 , 12.33347881])"
      ]
     },
     "execution_count": 1299,
     "metadata": {},
     "output_type": "execute_result"
    }
   ],
   "source": [
    "model1_predictions"
   ]
  },
  {
   "cell_type": "code",
   "execution_count": 1300,
   "id": "65f56bf1",
   "metadata": {},
   "outputs": [
    {
     "data": {
      "text/plain": [
       "0.8250361486400566"
      ]
     },
     "execution_count": 1300,
     "metadata": {},
     "output_type": "execute_result"
    }
   ],
   "source": [
    "lr.score(x_test,y_test)"
   ]
  },
  {
   "cell_type": "code",
   "execution_count": 1301,
   "id": "d7ce6e95",
   "metadata": {
    "scrolled": true
   },
   "outputs": [
    {
     "data": {
      "text/plain": [
       "(5400,)"
      ]
     },
     "execution_count": 1301,
     "metadata": {},
     "output_type": "execute_result"
    }
   ],
   "source": [
    "model1_predictions.shape\n"
   ]
  },
  {
   "cell_type": "code",
   "execution_count": 1302,
   "id": "8f4e27a2",
   "metadata": {
    "scrolled": false
   },
   "outputs": [
    {
     "data": {
      "text/plain": [
       "<matplotlib.collections.PathCollection at 0x224543463d0>"
      ]
     },
     "execution_count": 1302,
     "metadata": {},
     "output_type": "execute_result"
    },
    {
     "data": {
      "image/png": "[encoded data removed]",
      "text/plain": [
       "<Figure size 432x288 with 1 Axes>"
      ]
     },
     "metadata": {
      "needs_background": "light"
     },
     "output_type": "display_data"
    }
   ],
   "source": [
    "plt.scatter(model1_predictions, y_test)"
   ]
  },
  {
   "cell_type": "code",
   "execution_count": 1303,
   "id": "898894a8",
   "metadata": {},
   "outputs": [
    {
     "data": {
      "text/plain": [
       "<matplotlib.collections.PathCollection at 0x22454386190>"
      ]
     },
     "execution_count": 1303,
     "metadata": {},
     "output_type": "execute_result"
    },
    {
     "data": {
      "image/png": "[encoded data removed]",
      "text/plain": [
       "<Figure size 432x288 with 1 Axes>"
      ]
     },
     "metadata": {
      "needs_background": "light"
     },
     "output_type": "display_data"
    }
   ],
   "source": [
    "plt.scatter(model1_predictions,(y_test-model1_predictions))"
   ]
  },
  {
   "cell_type": "code",
   "execution_count": 1304,
   "id": "7924801d",
   "metadata": {
    "scrolled": true
   },
   "outputs": [
    {
     "name": "stderr",
     "output_type": "stream",
     "text": [
      "C:\\Users\\eggfr\\anaconda3\\lib\\site-packages\\seaborn\\distributions.py:2619: FutureWarning: `distplot` is a deprecated function and will be removed in a future version. Please adapt your code to use either `displot` (a figure-level function with similar flexibility) or `histplot` (an axes-level function for histograms).\n",
      "  warnings.warn(msg, FutureWarning)\n"
     ]
    },
    {
     "data": {
      "text/plain": [
       "<AxesSubplot:xlabel='price', ylabel='Density'>"
      ]
     },
     "execution_count": 1304,
     "metadata": {},
     "output_type": "execute_result"
    },
    {
     "data": {
      "image/png": "[encoded data removed]",
      "text/plain": [
       "<Figure size 432x288 with 1 Axes>"
      ]
     },
     "metadata": {
      "needs_background": "light"
     },
     "output_type": "display_data"
    }
   ],
   "source": [
    "sns.distplot((y_test-model1_predictions))"
   ]
  },
  {
   "cell_type": "code",
   "execution_count": 1305,
   "id": "64fb0769",
   "metadata": {},
   "outputs": [
    {
     "data": {
      "text/plain": [
       "0.16109112693732267"
      ]
     },
     "execution_count": 1305,
     "metadata": {},
     "output_type": "execute_result"
    }
   ],
   "source": [
    "metrics.mean_absolute_error(y_test,model1_predictions)"
   ]
  },
  {
   "cell_type": "code",
   "execution_count": 1306,
   "id": "90ce8847",
   "metadata": {},
   "outputs": [
    {
     "data": {
      "text/plain": [
       "0.04804073278073668"
      ]
     },
     "execution_count": 1306,
     "metadata": {},
     "output_type": "execute_result"
    }
   ],
   "source": [
    "metrics.mean_squared_error(y_test,model1_predictions)"
   ]
  },
  {
   "cell_type": "code",
   "execution_count": 1307,
   "id": "843031bd",
   "metadata": {},
   "outputs": [
    {
     "data": {
      "text/plain": [
       "0.2191819627175938"
      ]
     },
     "execution_count": 1307,
     "metadata": {},
     "output_type": "execute_result"
    }
   ],
   "source": [
    "np.sqrt(mean_squared_error(y_test,model1_predictions))"
   ]
  },
  {
   "cell_type": "code",
   "execution_count": 1308,
   "id": "96df3f12",
   "metadata": {
    "scrolled": true
   },
   "outputs": [
    {
     "data": {
      "image/png": "[encoded data removed]",
      "text/plain": [
       "<Figure size 432x288 with 1 Axes>"
      ]
     },
     "metadata": {
      "needs_background": "light"
     },
     "output_type": "display_data"
    }
   ],
   "source": [
    "fig = sm.graphics.qqplot(res.resid, dist=stats.norm, line='45', fit=True)"
   ]
  },
  {
   "cell_type": "code",
   "execution_count": 1309,
   "id": "25bd2f52",
   "metadata": {},
   "outputs": [],
   "source": [
    "#plt.scatter(model.predict(train[x_cols]), model.resid)\n",
    "#plt.plot(model.predict(train[x_cols]), [0 for i in range(len(train))])"
   ]
  },
  {
   "cell_type": "code",
   "execution_count": 1310,
   "id": "07c64c51",
   "metadata": {},
   "outputs": [
    {
     "data": {
      "text/plain": [
       "<matplotlib.collections.PathCollection at 0x22462e57f10>"
      ]
     },
     "execution_count": 1310,
     "metadata": {},
     "output_type": "execute_result"
    },
    {
     "data": {
      "image/png": "[encoded data removed]",
      "text/plain": [
       "<Figure size 432x288 with 1 Axes>"
      ]
     },
     "metadata": {
      "needs_background": "light"
     },
     "output_type": "display_data"
    }
   ],
   "source": [
    "plt.scatter(model1_predictions,(y_test-model1_predictions))"
   ]
  },
  {
   "cell_type": "code",
   "execution_count": 1311,
   "id": "157f4035",
   "metadata": {},
   "outputs": [],
   "source": [
    "#plt.scatter(res.predict(x_train), res.resid)\n",
    "#plt.plot(res.predict(x_train), [0 for i in range(len(train))])"
   ]
  },
  {
   "cell_type": "code",
   "execution_count": 1312,
   "id": "6c2dd59e",
   "metadata": {},
   "outputs": [
    {
     "name": "stdout",
     "output_type": "stream",
     "text": [
      "['bedrooms', 'bathrooms', 'sqft_living', 'sqft_lot', 'floors', 'waterfront', 'view', 'condition', 'sqft_above', 'sqft_basement', 'yr_built', 'yr_renovated', 'lat', 'long', 'sqft_living15', 'sqft_lot15', 'month', 'new_grade', 'seattle', 'x0_98002', 'x0_98003', 'x0_98004', 'x0_98005', 'x0_98006', 'x0_98007', 'x0_98008', 'x0_98010', 'x0_98011', 'x0_98014', 'x0_98019', 'x0_98022', 'x0_98023', 'x0_98024', 'x0_98027', 'x0_98028', 'x0_98029', 'x0_98030', 'x0_98031', 'x0_98032', 'x0_98033', 'x0_98034', 'x0_98038', 'x0_98039', 'x0_98040', 'x0_98042', 'x0_98045', 'x0_98052', 'x0_98053', 'x0_98055', 'x0_98056', 'x0_98058', 'x0_98059', 'x0_98065', 'x0_98070', 'x0_98072', 'x0_98074', 'x0_98075', 'x0_98077', 'x0_98092', 'x0_98102', 'x0_98103', 'x0_98105', 'x0_98106', 'x0_98107', 'x0_98108', 'x0_98109', 'x0_98112', 'x0_98115', 'x0_98116', 'x0_98117', 'x0_98118', 'x0_98119', 'x0_98122', 'x0_98125', 'x0_98126', 'x0_98133', 'x0_98136', 'x0_98144', 'x0_98146', 'x0_98148', 'x0_98155', 'x0_98166', 'x0_98168', 'x0_98177', 'x0_98178', 'x0_98188', 'x0_98198', 'x0_98199']\n"
     ]
    }
   ],
   "source": [
    "x_train_list= list(x_train.columns.values)\n",
    "print(x_train_list)"
   ]
  },
  {
   "cell_type": "code",
   "execution_count": 1313,
   "id": "9dbe58ef",
   "metadata": {
    "scrolled": true
   },
   "outputs": [
    {
     "name": "stdout",
     "output_type": "stream",
     "text": [
      "[1.770619497127088, 3.4639038658360635, 221.31481153053068, 2.070785442571235, 2.4758898335355024, 1.2509762837880845, 1.4839313065249025, 1.3131111654507046, 180.2283854888236, 50.37639939828327, 2.767679953514513, 1.1376877171621183, 63.88661991193275, 33.61583684427348, 3.110189183068628, 2.2463979016002606, 1.006950694078556, 1.2025010278832222, 21089662.863478556, 1.579479359842992, 1.7887938331765147, 6.481424811584746, 4.0521231084626095, 7.534653913977656, 3.5669133084076603, 6.61017296231003, 1.9338847847913445, 7.586865721254229, 6.397954790624942, 8.470979410880776, 3.175912664509184, 2.735491775580796, 3.048696849294018, 7.06239272622129, 10.46015572578633, 7.04350985146906, 1.9242313957847483, 2.3289855254731178, 1.4027780879829306, 11.279059899621732, 17.02039804620869, 5.491990642351125, 2.0080950866772236, 4.683904705922374, 3.7274706468007466, 7.59738700415196, 16.213050707692386, 12.488770114680115, 2.9466868708753844, 4.967628714117075, 4.085591645691739, 5.399965517983559, 8.403504774186887, 1.907022222371438, 10.782326902447412, 10.838478064109905, 8.677902966578735, 8.404687119131955, 2.1761207638543603, 160751.91905575898, 892385.332655077, 336783.46636094124, 485869.2019345114, 371636.20767123875, 3.3589395966527436, 147408.54346772924, 401734.41368420096, 14.990894249234557, 469029.2489017498, 798982.9630433784, 695601.358087826, 273830.5057775129, 415065.5440740721, 603116.9102944247, 487935.9813896495, 735760.6123366236, 367423.8986547829, 485724.9133734574, 390112.92737473146, 85973.11098631412, 15.363935414578433, 372707.2613681817, 3.1079636606201837, 9.020849663015532, 379997.60600564454, 1.8218420678355245, 2.0844986312187297, 473209.77805817686]\n"
     ]
    }
   ],
   "source": [
    "#perform vif_test\n",
    "feature = x_train_list\n",
    "X = x_train[feature]\n",
    "vif = [variance_inflation_factor(X.values, i) for i in range(X.shape[1])]\n",
    "vif_list = list(zip(feature, vif))\n",
    "print(vif)"
   ]
  },
  {
   "cell_type": "code",
   "execution_count": 1314,
   "id": "5df5be65",
   "metadata": {},
   "outputs": [
    {
     "name": "stdout",
     "output_type": "stream",
     "text": [
      "88 36\n",
      "['bedrooms', 'bathrooms', 'sqft_lot', 'floors', 'waterfront', 'view', 'condition', 'yr_built', 'yr_renovated', 'sqft_living15', 'sqft_lot15', 'month', 'new_grade', 'x0_98002', 'x0_98003', 'x0_98005', 'x0_98007', 'x0_98010', 'x0_98022', 'x0_98023', 'x0_98024', 'x0_98030', 'x0_98031', 'x0_98032', 'x0_98039', 'x0_98040', 'x0_98042', 'x0_98055', 'x0_98056', 'x0_98058', 'x0_98070', 'x0_98092', 'x0_98108', 'x0_98168', 'x0_98188', 'x0_98198']\n"
     ]
    }
   ],
   "source": [
    "vif_scores = list(zip(feature, vif))\n",
    "x_cols = [x for x,vif in vif_scores if vif < 5]\n",
    "print(len(vif_scores), len(x_cols))\n",
    "print((x_cols))"
   ]
  },
  {
   "cell_type": "code",
   "execution_count": 1315,
   "id": "f8f53eb4",
   "metadata": {},
   "outputs": [
    {
     "name": "stdout",
     "output_type": "stream",
     "text": [
      "                            OLS Regression Results                            \n",
      "==============================================================================\n",
      "Dep. Variable:                  price   R-squared:                       0.690\n",
      "Model:                            OLS   Adj. R-squared:                  0.690\n",
      "Method:                 Least Squares   F-statistic:                     1001.\n",
      "Date:                Thu, 23 Jun 2022   Prob (F-statistic):               0.00\n",
      "Time:                        12:28:09   Log-Likelihood:                -3123.8\n",
      "No. Observations:               16197   AIC:                             6322.\n",
      "Df Residuals:                   16160   BIC:                             6606.\n",
      "Df Model:                          36                                         \n",
      "Covariance Type:            nonrobust                                         \n",
      "=================================================================================\n",
      "                    coef    std err          t      P>|t|      [0.025      0.975]\n",
      "---------------------------------------------------------------------------------\n",
      "const            18.5795      0.218     85.252      0.000      18.152      19.007\n",
      "bedrooms          0.0144      0.003      4.603      0.000       0.008       0.021\n",
      "bathrooms         0.2027      0.005     42.219      0.000       0.193       0.212\n",
      "sqft_lot          1.0655      0.133      7.989      0.000       0.804       1.327\n",
      "floors            0.1143      0.005     21.284      0.000       0.104       0.125\n",
      "waterfront        0.3509      0.031     11.306      0.000       0.290       0.412\n",
      "view              0.0870      0.004     22.348      0.000       0.079       0.095\n",
      "condition         0.0640      0.004     16.065      0.000       0.056       0.072\n",
      "yr_built         -0.0034      0.000    -30.221      0.000      -0.004      -0.003\n",
      "yr_renovated   3.189e-05   6.79e-06      4.696      0.000    1.86e-05    4.52e-05\n",
      "sqft_living15     1.6834      0.026     64.001      0.000       1.632       1.735\n",
      "sqft_lot15       -0.4105      0.110     -3.746      0.000      -0.625      -0.196\n",
      "month            -0.0038      0.001     -5.162      0.000      -0.005      -0.002\n",
      "new_grade        -0.0066      0.001     -5.143      0.000      -0.009      -0.004\n",
      "x0_98002         -0.5885      0.025    -23.670      0.000      -0.637      -0.540\n",
      "x0_98003         -0.4890      0.021    -23.659      0.000      -0.530      -0.448\n",
      "x0_98005          0.1848      0.026      6.975      0.000       0.133       0.237\n",
      "x0_98007          0.1023      0.029      3.513      0.000       0.045       0.159\n",
      "x0_98010         -0.2720      0.033     -8.250      0.000      -0.337      -0.207\n",
      "x0_98022         -0.4772      0.023    -20.536      0.000      -0.523      -0.432\n",
      "x0_98023         -0.5483      0.015    -35.870      0.000      -0.578      -0.518\n",
      "x0_98024         -0.0765      0.037     -2.040      0.041      -0.150      -0.003\n",
      "x0_98030         -0.4813      0.022    -21.733      0.000      -0.525      -0.438\n",
      "x0_98031         -0.4860      0.021    -23.668      0.000      -0.526      -0.446\n",
      "x0_98032         -0.5418      0.032    -17.190      0.000      -0.604      -0.480\n",
      "x0_98039          0.7335      0.047     15.658      0.000       0.642       0.825\n",
      "x0_98040          0.2775      0.021     13.388      0.000       0.237       0.318\n",
      "x0_98042         -0.4759      0.015    -31.558      0.000      -0.505      -0.446\n",
      "x0_98055         -0.4400      0.020    -21.875      0.000      -0.479      -0.401\n",
      "x0_98056         -0.2304      0.017    -13.439      0.000      -0.264      -0.197\n",
      "x0_98058         -0.3701      0.016    -22.533      0.000      -0.402      -0.338\n",
      "x0_98070         -0.1593      0.033     -4.827      0.000      -0.224      -0.095\n",
      "x0_98092         -0.4836      0.019    -25.526      0.000      -0.521      -0.446\n",
      "x0_98108         -0.2660      0.024    -10.988      0.000      -0.313      -0.219\n",
      "x0_98168         -0.4881      0.021    -23.194      0.000      -0.529      -0.447\n",
      "x0_98188         -0.4334      0.029    -15.151      0.000      -0.490      -0.377\n",
      "x0_98198         -0.5050      0.021    -24.276      0.000      -0.546      -0.464\n",
      "==============================================================================\n",
      "Omnibus:                      430.466   Durbin-Watson:                   2.008\n",
      "Prob(Omnibus):                  0.000   Jarque-Bera (JB):             1038.916\n",
      "Skew:                          -0.070   Prob(JB):                    2.52e-226\n",
      "Kurtosis:                       4.233   Cond. No.                     1.86e+05\n",
      "==============================================================================\n",
      "\n",
      "Notes:\n",
      "[1] Standard Errors assume that the covariance matrix of the errors is correctly specified.\n",
      "[2] The condition number is large, 1.86e+05. This might indicate that there are\n",
      "strong multicollinearity or other numerical problems.\n"
     ]
    }
   ],
   "source": [
    "y = y_train\n",
    "Hh = y_test\n",
    "#feature = ['bedrooms']\n",
    "feature = ['bedrooms', 'bathrooms', 'sqft_lot', 'floors', 'waterfront', 'view', 'condition', 'yr_built', 'yr_renovated', 'sqft_living15', 'sqft_lot15', 'month', 'new_grade', 'x0_98002', 'x0_98003', 'x0_98005', 'x0_98007', 'x0_98010', 'x0_98022', 'x0_98023', 'x0_98024', 'x0_98030', 'x0_98031', 'x0_98032', 'x0_98039', 'x0_98040', 'x0_98042', 'x0_98055', 'x0_98056', 'x0_98058', 'x0_98070', 'x0_98092', 'x0_98108', 'x0_98168', 'x0_98188', 'x0_98198']\n",
    "#feature = ['bedrooms', 'bathrooms', 'sqft_lot', 'floors', 'waterfront', 'view', 'condition', 'yr_built', 'yr_renovated', 'sqft_living15', 'sqft_lot15', 'month','seattle']\n",
    "#feature = ['bedrooms','bathrooms','condition','view']\n",
    "X= x_train[feature]\n",
    "z= x_test[feature]\n",
    "Xcont = sm.add_constant(X)\n",
    "\n",
    "model = sm.OLS(endog = y, exog = Xcont)\n",
    "model = sm.OLS(y,Xcont)\n",
    "res = model.fit()\n",
    "print(res.summary())"
   ]
  },
  {
   "cell_type": "code",
   "execution_count": 1336,
   "id": "fdcbe24f",
   "metadata": {},
   "outputs": [
    {
     "name": "stdout",
     "output_type": "stream",
     "text": [
      "0.6904003161146838\n",
      "0.6617858527333134\n"
     ]
    }
   ],
   "source": [
    "lr2 = LinearRegression()\n",
    "#lr2.fit(x_train,y_train)\n",
    "#ols2 = LinearRegression()\n",
    "testsmodel = lr2.fit(X,y)\n",
    "print(testsmodel.score(X,y)) # train\n",
    "print(testsmodel.score(z,Hh)) # test"
   ]
  },
  {
   "cell_type": "code",
   "execution_count": 1337,
   "id": "d88e8b77",
   "metadata": {
    "scrolled": true
   },
   "outputs": [
    {
     "name": "stdout",
     "output_type": "stream",
     "text": [
      "18.579516598649597\n"
     ]
    }
   ],
   "source": [
    "print(lr2.intercept_)"
   ]
  },
  {
   "cell_type": "code",
   "execution_count": 1341,
   "id": "a5de3eaf",
   "metadata": {},
   "outputs": [
    {
     "ename": "ValueError",
     "evalue": "shapes (16197,88) and (1,88) not aligned: 88 (dim 1) != 1 (dim 0)",
     "output_type": "error",
     "traceback": [
      "\u001b[1;31m---------------------------------------------------------------------------\u001b[0m",
      "\u001b[1;31mValueError\u001b[0m                                Traceback (most recent call last)",
      "Input \u001b[1;32mIn [1341]\u001b[0m, in \u001b[0;36m<cell line: 1>\u001b[1;34m()\u001b[0m\n\u001b[1;32m----> 1\u001b[0m model2_predictions \u001b[38;5;241m=\u001b[39m \u001b[43mtestmodel\u001b[49m\u001b[38;5;241;43m.\u001b[39;49m\u001b[43mpredict\u001b[49m\u001b[43m(\u001b[49m\u001b[43mx_train\u001b[49m\u001b[43m)\u001b[49m\n",
      "File \u001b[1;32m~\\anaconda3\\lib\\site-packages\\statsmodels\\base\\model.py:1159\u001b[0m, in \u001b[0;36mResults.predict\u001b[1;34m(self, exog, transform, *args, **kwargs)\u001b[0m\n\u001b[0;32m   1156\u001b[0m         exog \u001b[38;5;241m=\u001b[39m exog[:, \u001b[38;5;28;01mNone\u001b[39;00m]\n\u001b[0;32m   1157\u001b[0m     exog \u001b[38;5;241m=\u001b[39m np\u001b[38;5;241m.\u001b[39matleast_2d(exog)  \u001b[38;5;66;03m# needed in count model shape[1]\u001b[39;00m\n\u001b[1;32m-> 1159\u001b[0m predict_results \u001b[38;5;241m=\u001b[39m \u001b[38;5;28mself\u001b[39m\u001b[38;5;241m.\u001b[39mmodel\u001b[38;5;241m.\u001b[39mpredict(\u001b[38;5;28mself\u001b[39m\u001b[38;5;241m.\u001b[39mparams, exog, \u001b[38;5;241m*\u001b[39margs,\n\u001b[0;32m   1160\u001b[0m                                      \u001b[38;5;241m*\u001b[39m\u001b[38;5;241m*\u001b[39mkwargs)\n\u001b[0;32m   1162\u001b[0m \u001b[38;5;28;01mif\u001b[39;00m exog_index \u001b[38;5;129;01mis\u001b[39;00m \u001b[38;5;129;01mnot\u001b[39;00m \u001b[38;5;28;01mNone\u001b[39;00m \u001b[38;5;129;01mand\u001b[39;00m \u001b[38;5;129;01mnot\u001b[39;00m \u001b[38;5;28mhasattr\u001b[39m(predict_results,\n\u001b[0;32m   1163\u001b[0m                                           \u001b[38;5;124m'\u001b[39m\u001b[38;5;124mpredicted_values\u001b[39m\u001b[38;5;124m'\u001b[39m):\n\u001b[0;32m   1164\u001b[0m     \u001b[38;5;28;01mif\u001b[39;00m predict_results\u001b[38;5;241m.\u001b[39mndim \u001b[38;5;241m==\u001b[39m \u001b[38;5;241m1\u001b[39m:\n",
      "File \u001b[1;32m~\\anaconda3\\lib\\site-packages\\statsmodels\\regression\\linear_model.py:381\u001b[0m, in \u001b[0;36mRegressionModel.predict\u001b[1;34m(self, params, exog)\u001b[0m\n\u001b[0;32m    378\u001b[0m \u001b[38;5;28;01mif\u001b[39;00m exog \u001b[38;5;129;01mis\u001b[39;00m \u001b[38;5;28;01mNone\u001b[39;00m:\n\u001b[0;32m    379\u001b[0m     exog \u001b[38;5;241m=\u001b[39m \u001b[38;5;28mself\u001b[39m\u001b[38;5;241m.\u001b[39mexog\n\u001b[1;32m--> 381\u001b[0m \u001b[38;5;28;01mreturn\u001b[39;00m \u001b[43mnp\u001b[49m\u001b[38;5;241;43m.\u001b[39;49m\u001b[43mdot\u001b[49m\u001b[43m(\u001b[49m\u001b[43mexog\u001b[49m\u001b[43m,\u001b[49m\u001b[43m \u001b[49m\u001b[43mparams\u001b[49m\u001b[43m)\u001b[49m\n",
      "File \u001b[1;32m<__array_function__ internals>:5\u001b[0m, in \u001b[0;36mdot\u001b[1;34m(*args, **kwargs)\u001b[0m\n",
      "\u001b[1;31mValueError\u001b[0m: shapes (16197,88) and (1,88) not aligned: 88 (dim 1) != 1 (dim 0)"
     ]
    }
   ],
   "source": [
    "model2_predictions = testmodel.predict(x_train)"
   ]
  },
  {
   "cell_type": "code",
   "execution_count": 1319,
   "id": "faef452b",
   "metadata": {},
   "outputs": [
    {
     "data": {
      "text/plain": [
       "array([13.17775403, 12.50542868, 14.18682301, ..., 12.67633302,\n",
       "       12.0244845 , 13.16492097])"
      ]
     },
     "execution_count": 1319,
     "metadata": {},
     "output_type": "execute_result"
    }
   ],
   "source": [
    "model2_predictions"
   ]
  },
  {
   "cell_type": "code",
   "execution_count": 1320,
   "id": "79781152",
   "metadata": {
    "scrolled": true
   },
   "outputs": [
    {
     "data": {
      "text/plain": [
       "array([-9.72394302e-03,  5.00411177e-02,  1.89431294e+00,  1.07412021e+00,\n",
       "       -3.12450085e-02,  4.70472758e-01,  7.36529504e-02,  5.78275346e-02,\n",
       "        1.12123202e+00,  6.79991622e-02,  3.78423549e-04,  4.71092700e-05,\n",
       "        6.05498923e-01, -4.25772636e-01,  7.37640527e-01,  3.23100772e-02,\n",
       "       -4.86973514e-03,  5.55448820e-03, -4.57770957e-01, -2.45717527e-02,\n",
       "        2.34665142e-02,  9.48680095e-01,  6.17797189e-01,  5.59708367e-01,\n",
       "        5.58281745e-01,  5.44660185e-01,  3.08537689e-01,  2.04360662e-01,\n",
       "        2.49220945e-01,  1.62890975e-01,  2.09334005e-01, -5.86700167e-02,\n",
       "        4.03210561e-01,  4.72392513e-01,  1.51107699e-01,  5.86187046e-01,\n",
       "        4.76270094e-02,  4.70318445e-02, -5.83036575e-02,  6.06570593e-01,\n",
       "        3.23704584e-01,  2.05465710e-01,  1.07967563e+00,  7.51528100e-01,\n",
       "        7.50012549e-02,  4.42350479e-01,  4.88212600e-01,  4.37720873e-01,\n",
       "        7.18783154e-02,  2.20931306e-01,  1.29798462e-01,  2.62168908e-01,\n",
       "        3.81866961e-01,  1.80452346e-01,  2.89120238e-01,  4.93080672e-01,\n",
       "        4.99463372e-01,  2.84959454e-01,  6.18353416e-02,  3.40609853e-01,\n",
       "        1.43536504e-01,  3.01657434e-01, -2.89872638e-01,  1.47762005e-01,\n",
       "        1.93124800e-01,  3.66834067e-01,  4.47456622e-01,  6.04146840e-01,\n",
       "        1.29773505e-01,  1.09548708e-01, -1.46145843e-01,  3.51816482e-01,\n",
       "        1.98466668e-01, -1.37779337e-01, -8.80732919e-02, -2.76455357e-01,\n",
       "        4.88982528e-02,  5.69699342e-02, -3.44349649e-01, -4.05083032e-01,\n",
       "        1.56029841e-01, -2.69100126e-01, -5.73587455e-02,  3.09583091e-01,\n",
       "       -4.20158333e-01,  1.79814630e-02, -3.53203148e-02,  1.91458529e-01])"
      ]
     },
     "execution_count": 1320,
     "metadata": {},
     "output_type": "execute_result"
    }
   ],
   "source": [
    "lr2.coef_"
   ]
  },
  {
   "cell_type": "code",
   "execution_count": 1321,
   "id": "1de0b503",
   "metadata": {},
   "outputs": [],
   "source": [
    "model2_predictions = lr2.predict(x_test)"
   ]
  },
  {
   "cell_type": "code",
   "execution_count": 1322,
   "id": "a262672b",
   "metadata": {
    "scrolled": false
   },
   "outputs": [
    {
     "data": {
      "text/plain": [
       "<matplotlib.collections.PathCollection at 0x22462ee2910>"
      ]
     },
     "execution_count": 1322,
     "metadata": {},
     "output_type": "execute_result"
    },
    {
     "data": {
      "image/png": "[encoded data removed]",
      "text/plain": [
       "<Figure size 432x288 with 1 Axes>"
      ]
     },
     "metadata": {
      "needs_background": "light"
     },
     "output_type": "display_data"
    }
   ],
   "source": [
    "plt.scatter(model2_predictions, y_test)"
   ]
  },
  {
   "cell_type": "code",
   "execution_count": 1323,
   "id": "aabbfb20",
   "metadata": {},
   "outputs": [
    {
     "data": {
      "text/plain": [
       "<matplotlib.collections.PathCollection at 0x22462f283d0>"
      ]
     },
     "execution_count": 1323,
     "metadata": {},
     "output_type": "execute_result"
    },
    {
     "data": {
      "image/png": "[encoded data removed]",
      "text/plain": [
       "<Figure size 432x288 with 1 Axes>"
      ]
     },
     "metadata": {
      "needs_background": "light"
     },
     "output_type": "display_data"
    }
   ],
   "source": [
    "plt.scatter(model2_predictions,(y_test-model2_predictions))"
   ]
  },
  {
   "cell_type": "code",
   "execution_count": 1324,
   "id": "2100620c",
   "metadata": {},
   "outputs": [
    {
     "name": "stderr",
     "output_type": "stream",
     "text": [
      "C:\\Users\\eggfr\\anaconda3\\lib\\site-packages\\seaborn\\distributions.py:2619: FutureWarning: `distplot` is a deprecated function and will be removed in a future version. Please adapt your code to use either `displot` (a figure-level function with similar flexibility) or `histplot` (an axes-level function for histograms).\n",
      "  warnings.warn(msg, FutureWarning)\n"
     ]
    },
    {
     "data": {
      "text/plain": [
       "<AxesSubplot:xlabel='price', ylabel='Density'>"
      ]
     },
     "execution_count": 1324,
     "metadata": {},
     "output_type": "execute_result"
    },
    {
     "data": {
      "image/png": "[encoded data removed]",
      "text/plain": [
       "<Figure size 432x288 with 1 Axes>"
      ]
     },
     "metadata": {
      "needs_background": "light"
     },
     "output_type": "display_data"
    }
   ],
   "source": [
    "sns.distplot((y_test-model2_predictions))"
   ]
  },
  {
   "cell_type": "code",
   "execution_count": 1325,
   "id": "d5b9ab6f",
   "metadata": {},
   "outputs": [
    {
     "data": {
      "text/plain": [
       "0.16109112693732267"
      ]
     },
     "execution_count": 1325,
     "metadata": {},
     "output_type": "execute_result"
    }
   ],
   "source": [
    "metrics.mean_absolute_error(y_test,model2_predictions)"
   ]
  },
  {
   "cell_type": "code",
   "execution_count": 1326,
   "id": "3d8ce0ed",
   "metadata": {},
   "outputs": [
    {
     "data": {
      "text/plain": [
       "0.04804073278073668"
      ]
     },
     "execution_count": 1326,
     "metadata": {},
     "output_type": "execute_result"
    }
   ],
   "source": [
    "metrics.mean_squared_error(y_test,model2_predictions)"
   ]
  },
  {
   "cell_type": "code",
   "execution_count": 1327,
   "id": "ff914b3d",
   "metadata": {},
   "outputs": [
    {
     "data": {
      "text/plain": [
       "0.2191819627175938"
      ]
     },
     "execution_count": 1327,
     "metadata": {},
     "output_type": "execute_result"
    }
   ],
   "source": [
    "np.sqrt(mean_squared_error(y_test,model2_predictions))"
   ]
  },
  {
   "cell_type": "code",
   "execution_count": 1328,
   "id": "0559cf45",
   "metadata": {
    "scrolled": true
   },
   "outputs": [
    {
     "data": {
      "image/png": "[encoded data removed]",
      "text/plain": [
       "<Figure size 432x288 with 1 Axes>"
      ]
     },
     "metadata": {
      "needs_background": "light"
     },
     "output_type": "display_data"
    }
   ],
   "source": [
    "fig = sm.graphics.qqplot(res.resid, dist=stats.norm, line='45', fit=True)"
   ]
  },
  {
   "cell_type": "code",
   "execution_count": null,
   "id": "afffee27",
   "metadata": {
    "scrolled": true
   },
   "outputs": [],
   "source": []
  },
  {
   "cell_type": "code",
   "execution_count": 1329,
   "id": "fd2ea6a4",
   "metadata": {},
   "outputs": [
    {
     "data": {
      "text/plain": [
       "<AxesSubplot:>"
      ]
     },
     "execution_count": 1329,
     "metadata": {},
     "output_type": "execute_result"
    },
    {
     "data": {
      "image/png": "[encoded data removed]",
      "text/plain": [
       "<Figure size 432x288 with 1 Axes>"
      ]
     },
     "metadata": {
      "needs_background": "light"
     },
     "output_type": "display_data"
    }
   ],
   "source": [
    "project2_raw_df.price.hist()"
   ]
  },
  {
   "cell_type": "code",
   "execution_count": null,
   "id": "5974a8b2",
   "metadata": {},
   "outputs": [],
   "source": []
  },
  {
   "cell_type": "code",
   "execution_count": null,
   "id": "448abe80",
   "metadata": {},
   "outputs": [],
   "source": []
  }
 ],
 "metadata": {
  "kernelspec": {
   "display_name": "Python 3 (ipykernel)",
   "language": "python",
   "name": "python3"
  },
  "language_info": {
   "codemirror_mode": {
    "name": "ipython",
    "version": 3
   },
   "file_extension": ".py",
   "mimetype": "text/x-python",
   "name": "python",
   "nbconvert_exporter": "python",
   "pygments_lexer": "ipython3",
   "version": "3.9.12"
  }
 },
 "nbformat": 4,
 "nbformat_minor": 5
}
