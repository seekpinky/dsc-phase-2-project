{
 "cells": [
  {
   "cell_type": "code",
   "execution_count": null,
   "id": "9e28beae",
   "metadata": {},
   "outputs": [],
   "source": [
    "file_path = \"file_path = \"\\\\Users\\\\eggfr\\\\Desktop\\\\QB_historical_stat.xlsx\"\n"
   ]
  },
  {
   "cell_type": "code",
   "execution_count": null,
   "id": "96b43080",
   "metadata": {},
   "outputs": [],
   "source": []
  }
 ],
 "metadata": {
  "kernelspec": {
   "display_name": "Python (learn-env)",
   "language": "python",
   "name": "learn-env"
  }
 },
 "nbformat": 4,
 "nbformat_minor": 5
}
